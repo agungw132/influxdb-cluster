{
 "cells": [
  {
   "cell_type": "markdown",
   "metadata": {},
   "source": [
    "## Download and install data node package in each data node\n",
    "\n",
    "wget https://dl.influxdata.com/enterprise/releases/influxdb-data_1.5.4-c1.5.4_amd64.deb\n",
    "\n",
    "sudo dpkg -i influxdb-data_1.5.4-c1.5.4_amd64.deb"
   ]
  },
  {
   "cell_type": "markdown",
   "metadata": {},
   "source": [
    "## Edit the data service configuration file\n",
    "\n",
    "First, in /etc/influxdb/influxdb.conf, uncomment:\n",
    "\n",
    "hostname at the top of the file and set it to the full hostname of the data node\n",
    "\n",
    "auth-enabled in the [http] section and set it to true\n",
    "\n",
    "shared-secret in the [http] section and set it to a long pass phrase that will be used to sign tokens for intra-cluster communication. This value needs to be consistent across all data nodes.\n",
    "\n",
    "Note: When you enable authentication, InfluxDB only executes HTTP requests that are sent with valid credentials. See the authentication section for more information.\n",
    "\n",
    "Second, in /etc/influxdb/influxdb.conf, set:\n",
    "\n",
    "license-key in the [enterprise] section to the license key you received on InfluxPortal OR license-path in the [enterprise] section to the local path to the JSON license file you received from InfluxData."
   ]
  },
  {
   "cell_type": "markdown",
   "metadata": {},
   "source": [
    "## Start the data service\n",
    "\n",
    "On sysvinit systems, enter:\n",
    "\n",
    "service influxdb start\n",
    "\n",
    "On systemd systems, enter:\n",
    "\n",
    "sudo systemctl start influxdb"
   ]
  },
  {
   "cell_type": "code",
   "execution_count": null,
   "metadata": {},
   "outputs": [],
   "source": []
  }
 ],
 "metadata": {
  "kernelspec": {
   "display_name": "Python 3",
   "language": "python",
   "name": "python3"
  },
  "language_info": {
   "codemirror_mode": {
    "name": "ipython",
    "version": 3
   },
   "file_extension": ".py",
   "mimetype": "text/x-python",
   "name": "python",
   "nbconvert_exporter": "python",
   "pygments_lexer": "ipython3",
   "version": "3.5.2"
  }
 },
 "nbformat": 4,
 "nbformat_minor": 2
}
