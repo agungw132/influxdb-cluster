{
 "cells": [
  {
   "cell_type": "code",
   "execution_count": 1,
   "metadata": {},
   "outputs": [],
   "source": [
    "!mkdir myhaproxy"
   ]
  },
  {
   "cell_type": "code",
   "execution_count": 2,
   "metadata": {},
   "outputs": [],
   "source": [
    "!cd myhaproxy/"
   ]
  },
  {
   "cell_type": "code",
   "execution_count": 3,
   "metadata": {},
   "outputs": [
    {
     "name": "stdout",
     "output_type": "stream",
     "text": [
      "/home/agungw132/Dropbox/Jupyter/influxdb-cluster\r\n"
     ]
    }
   ],
   "source": [
    "!pwd"
   ]
  },
  {
   "cell_type": "code",
   "execution_count": 4,
   "metadata": {},
   "outputs": [
    {
     "name": "stdout",
     "output_type": "stream",
     "text": [
      "6 - Setting HAProxy & LB.ipynb\r\n",
      "7- Trial.ipynb\r\n",
      "Install telegraf (to store data in influxdb) .ipynb\r\n",
      "\u001b[0m\u001b[01;34mmyhaproxy\u001b[0m/\r\n",
      "Step 1 - Installing an InfluxDB Enterprise cluster.ipynb\r\n",
      "Step 2 - Set up the metanodes.ipynb\r\n",
      "Step 3 - Set up the data nodes.ipynb\r\n",
      "Step 4 - Join the nodes to the cluster.ipynb\r\n",
      "telegraf.conf\r\n"
     ]
    }
   ],
   "source": [
    "ls"
   ]
  },
  {
   "cell_type": "code",
   "execution_count": 5,
   "metadata": {},
   "outputs": [
    {
     "name": "stdout",
     "output_type": "stream",
     "text": [
      "Using default tag: latest\n",
      "latest: Pulling from library/haproxy\n",
      "\n",
      "\u001b[1B81be8156: Already exists \n",
      "\u001b[1B22a0d424: Pulling fs layer \n",
      "\u001b[1BDigest: sha256:6850da852c4e2bd8b613a6cc7e77946c5ee9c66887b693f87a8a2c0598b3d62b\u001b[K\u001b[2A\u001b[1K\u001b[K\u001b[2A\u001b[1K\u001b[K\u001b[2A\u001b[1K\u001b[K\u001b[2A\u001b[1K\u001b[K\u001b[2A\u001b[1K\u001b[K\u001b[2A\u001b[1K\u001b[K\u001b[2A\u001b[1K\u001b[K\u001b[2A\u001b[1K\u001b[K\u001b[2A\u001b[1K\u001b[K\u001b[2A\u001b[1K\u001b[K\u001b[2A\u001b[1K\u001b[K\u001b[2A\u001b[1K\u001b[K\u001b[2A\u001b[1K\u001b[K\u001b[2A\u001b[1K\u001b[K\u001b[2A\u001b[1K\u001b[K\u001b[1A\u001b[1K\u001b[K\u001b[1A\u001b[1K\u001b[K\n",
      "Status: Downloaded newer image for haproxy:latest\n"
     ]
    }
   ],
   "source": [
    "!docker pull haproxy"
   ]
  },
  {
   "cell_type": "code",
   "execution_count": 6,
   "metadata": {},
   "outputs": [
    {
     "name": "stdout",
     "output_type": "stream",
     "text": [
      "REPOSITORY            TAG                 IMAGE ID            CREATED             SIZE\r\n",
      "haproxy               latest              991c6e578a0d        3 hours ago         69.5MB\r\n",
      "awesome               v2                  02e56bf30362        28 hours ago        674MB\r\n",
      "awesome               latest              50381a421f3e        29 hours ago        674MB\r\n",
      "ubuntu                16.04               7aa3602ab41e        4 days ago          115MB\r\n",
      "haproxy               <none>              3b10abf01813        6 days ago          69.5MB\r\n",
      "node                  latest              52fe93b8eea7        11 days ago         674MB\r\n",
      "redis                 latest              f06a5773f01e        2 weeks ago         83.4MB\r\n",
      "dockercloud/haproxy   <none>              4d6ae6c16c4d        7 months ago        42.6MB\r\n"
     ]
    }
   ],
   "source": [
    "!docker images"
   ]
  },
  {
   "cell_type": "code",
   "execution_count": 8,
   "metadata": {},
   "outputs": [
    {
     "name": "stdout",
     "output_type": "stream",
     "text": [
      "Writing myhaproxy/haproxy.cfg\n"
     ]
    }
   ],
   "source": [
    "%%file myhaproxy/haproxy.cfg\n",
    "defaults\n",
    "log     global\n",
    "mode    tcp\n",
    "option  tcplog\n",
    "\n",
    "frontend mqtt\n",
    "    bind 0.0.0.0:8086\n",
    "    default_backend mqtt\n",
    "\n",
    "backend mqtt\n",
    "    mode tcp\n",
    "    balance roundrobin\n",
    "    server influx-cluster-1 172.17.0.2:8086 check\n",
    "    server influx-cluster-2 172.17.0.3:8086 check\n",
    "    server influx-cluster-3 172.17.0.4:8086 check\n"
   ]
  },
  {
   "cell_type": "code",
   "execution_count": 9,
   "metadata": {},
   "outputs": [
    {
     "name": "stdout",
     "output_type": "stream",
     "text": [
      "8cd4a384151f5c7bb8af41f44e389fc739e03aba0414c6ed616658daa1a1b7ce\r\n"
     ]
    }
   ],
   "source": [
    "!docker run -d --name my-running-haproxy -v $PWD/myhaproxy:/usr/local/etc/haproxy:ro haproxy"
   ]
  },
  {
   "cell_type": "code",
   "execution_count": 12,
   "metadata": {},
   "outputs": [
    {
     "name": "stdout",
     "output_type": "stream",
     "text": [
      "CONTAINER ID        IMAGE               COMMAND                  CREATED             STATUS              PORTS               NAMES\r\n",
      "8cd4a384151f        haproxy             \"/docker-entrypoint.…\"   16 seconds ago      Up 16 seconds                           my-running-haproxy\r\n",
      "9e04dcafd7a6        ubuntu:16.04        \"sleep 9999999999999…\"   21 hours ago        Up 21 hours                             influx-cluster-3\r\n",
      "4a5974247f70        ubuntu:16.04        \"sleep 9999999999999…\"   21 hours ago        Up 21 hours                             influx-cluster-2\r\n",
      "232ae55d8ab4        ubuntu:16.04        \"sleep 9999999999999…\"   21 hours ago        Up 21 hours                             influx-cluster-1\r\n"
     ]
    }
   ],
   "source": [
    "!docker ps"
   ]
  },
  {
   "cell_type": "code",
   "execution_count": 14,
   "metadata": {
    "collapsed": true
   },
   "outputs": [
    {
     "name": "stdout",
     "output_type": "stream",
     "text": [
      "[\r\n",
      "    {\r\n",
      "        \"Id\": \"8cd4a384151f5c7bb8af41f44e389fc739e03aba0414c6ed616658daa1a1b7ce\",\r\n",
      "        \"Created\": \"2018-07-31T19:23:02.132367798Z\",\r\n",
      "        \"Path\": \"/docker-entrypoint.sh\",\r\n",
      "        \"Args\": [\r\n",
      "            \"haproxy\",\r\n",
      "            \"-f\",\r\n",
      "            \"/usr/local/etc/haproxy/haproxy.cfg\"\r\n",
      "        ],\r\n",
      "        \"State\": {\r\n",
      "            \"Status\": \"running\",\r\n",
      "            \"Running\": true,\r\n",
      "            \"Paused\": false,\r\n",
      "            \"Restarting\": false,\r\n",
      "            \"OOMKilled\": false,\r\n",
      "            \"Dead\": false,\r\n",
      "            \"Pid\": 9681,\r\n",
      "            \"ExitCode\": 0,\r\n",
      "            \"Error\": \"\",\r\n",
      "            \"StartedAt\": \"2018-07-31T19:23:02.464628891Z\",\r\n",
      "            \"FinishedAt\": \"0001-01-01T00:00:00Z\"\r\n",
      "        },\r\n",
      "        \"Image\": \"sha256:991c6e578a0d6f0b1c2e0ddf6fcf0ef5a9de18283dc403c4479e5946dbe5408f\",\r\n",
      "        \"ResolvConfPath\": \"/var/lib/docker/containers/8cd4a384151f5c7bb8af41f44e389fc739e03aba0414c6ed616658daa1a1b7ce/resolv.conf\",\r\n",
      "        \"HostnamePath\": \"/var/lib/docker/containers/8cd4a384151f5c7bb8af41f44e389fc739e03aba0414c6ed616658daa1a1b7ce/hostname\",\r\n",
      "        \"HostsPath\": \"/var/lib/docker/containers/8cd4a384151f5c7bb8af41f44e389fc739e03aba0414c6ed616658daa1a1b7ce/hosts\",\r\n",
      "        \"LogPath\": \"/var/lib/docker/containers/8cd4a384151f5c7bb8af41f44e389fc739e03aba0414c6ed616658daa1a1b7ce/8cd4a384151f5c7bb8af41f44e389fc739e03aba0414c6ed616658daa1a1b7ce-json.log\",\r\n",
      "        \"Name\": \"/my-running-haproxy\",\r\n",
      "        \"RestartCount\": 0,\r\n",
      "        \"Driver\": \"overlay2\",\r\n",
      "        \"Platform\": \"linux\",\r\n",
      "        \"MountLabel\": \"\",\r\n",
      "        \"ProcessLabel\": \"\",\r\n",
      "        \"AppArmorProfile\": \"docker-default\",\r\n",
      "        \"ExecIDs\": null,\r\n",
      "        \"HostConfig\": {\r\n",
      "            \"Binds\": [\r\n",
      "                \"/home/agungw132/Dropbox/Jupyter/influxdb-cluster/myhaproxy:/usr/local/etc/haproxy:ro\"\r\n",
      "            ],\r\n",
      "            \"ContainerIDFile\": \"\",\r\n",
      "            \"LogConfig\": {\r\n",
      "                \"Type\": \"json-file\",\r\n",
      "                \"Config\": {}\r\n",
      "            },\r\n",
      "            \"NetworkMode\": \"default\",\r\n",
      "            \"PortBindings\": {},\r\n",
      "            \"RestartPolicy\": {\r\n",
      "                \"Name\": \"no\",\r\n",
      "                \"MaximumRetryCount\": 0\r\n",
      "            },\r\n",
      "            \"AutoRemove\": false,\r\n",
      "            \"VolumeDriver\": \"\",\r\n",
      "            \"VolumesFrom\": null,\r\n",
      "            \"CapAdd\": null,\r\n",
      "            \"CapDrop\": null,\r\n",
      "            \"Dns\": [],\r\n",
      "            \"DnsOptions\": [],\r\n",
      "            \"DnsSearch\": [],\r\n",
      "            \"ExtraHosts\": null,\r\n",
      "            \"GroupAdd\": null,\r\n",
      "            \"IpcMode\": \"shareable\",\r\n",
      "            \"Cgroup\": \"\",\r\n",
      "            \"Links\": null,\r\n",
      "            \"OomScoreAdj\": 0,\r\n",
      "            \"PidMode\": \"\",\r\n",
      "            \"Privileged\": false,\r\n",
      "            \"PublishAllPorts\": false,\r\n",
      "            \"ReadonlyRootfs\": false,\r\n",
      "            \"SecurityOpt\": null,\r\n",
      "            \"UTSMode\": \"\",\r\n",
      "            \"UsernsMode\": \"\",\r\n",
      "            \"ShmSize\": 67108864,\r\n",
      "            \"Runtime\": \"runc\",\r\n",
      "            \"ConsoleSize\": [\r\n",
      "                0,\r\n",
      "                0\r\n",
      "            ],\r\n",
      "            \"Isolation\": \"\",\r\n",
      "            \"CpuShares\": 0,\r\n",
      "            \"Memory\": 0,\r\n",
      "            \"NanoCpus\": 0,\r\n",
      "            \"CgroupParent\": \"\",\r\n",
      "            \"BlkioWeight\": 0,\r\n",
      "            \"BlkioWeightDevice\": [],\r\n",
      "            \"BlkioDeviceReadBps\": null,\r\n",
      "            \"BlkioDeviceWriteBps\": null,\r\n",
      "            \"BlkioDeviceReadIOps\": null,\r\n",
      "            \"BlkioDeviceWriteIOps\": null,\r\n",
      "            \"CpuPeriod\": 0,\r\n",
      "            \"CpuQuota\": 0,\r\n",
      "            \"CpuRealtimePeriod\": 0,\r\n",
      "            \"CpuRealtimeRuntime\": 0,\r\n",
      "            \"CpusetCpus\": \"\",\r\n",
      "            \"CpusetMems\": \"\",\r\n",
      "            \"Devices\": [],\r\n",
      "            \"DeviceCgroupRules\": null,\r\n",
      "            \"DiskQuota\": 0,\r\n",
      "            \"KernelMemory\": 0,\r\n",
      "            \"MemoryReservation\": 0,\r\n",
      "            \"MemorySwap\": 0,\r\n",
      "            \"MemorySwappiness\": null,\r\n",
      "            \"OomKillDisable\": false,\r\n",
      "            \"PidsLimit\": 0,\r\n",
      "            \"Ulimits\": null,\r\n",
      "            \"CpuCount\": 0,\r\n",
      "            \"CpuPercent\": 0,\r\n",
      "            \"IOMaximumIOps\": 0,\r\n",
      "            \"IOMaximumBandwidth\": 0,\r\n",
      "            \"MaskedPaths\": [\r\n",
      "                \"/proc/acpi\",\r\n",
      "                \"/proc/kcore\",\r\n",
      "                \"/proc/keys\",\r\n",
      "                \"/proc/latency_stats\",\r\n",
      "                \"/proc/timer_list\",\r\n",
      "                \"/proc/timer_stats\",\r\n",
      "                \"/proc/sched_debug\",\r\n",
      "                \"/proc/scsi\",\r\n",
      "                \"/sys/firmware\"\r\n",
      "            ],\r\n",
      "            \"ReadonlyPaths\": [\r\n",
      "                \"/proc/asound\",\r\n",
      "                \"/proc/bus\",\r\n",
      "                \"/proc/fs\",\r\n",
      "                \"/proc/irq\",\r\n",
      "                \"/proc/sys\",\r\n",
      "                \"/proc/sysrq-trigger\"\r\n",
      "            ]\r\n",
      "        },\r\n",
      "        \"GraphDriver\": {\r\n",
      "            \"Data\": {\r\n",
      "                \"LowerDir\": \"/var/lib/docker/overlay2/f0b4ff8a83f0670e1a5669b6679b8608ce6b12668440075c3c0c1c502516cc9d-init/diff:/var/lib/docker/overlay2/f70a1278b0417caff915cf0a2d1615836aa21bd5a2fe94c47258fba88b09ff09/diff:/var/lib/docker/overlay2/ea871cb0f9e56e495db3dcde9f37d4b3045e63ec530e7bb0c3ddaf361b59542f/diff:/var/lib/docker/overlay2/471680a7ffa2a118855fbe213faf9c0e11a28e4e0a3f183e6e97ed8dffb85ea1/diff\",\r\n",
      "                \"MergedDir\": \"/var/lib/docker/overlay2/f0b4ff8a83f0670e1a5669b6679b8608ce6b12668440075c3c0c1c502516cc9d/merged\",\r\n",
      "                \"UpperDir\": \"/var/lib/docker/overlay2/f0b4ff8a83f0670e1a5669b6679b8608ce6b12668440075c3c0c1c502516cc9d/diff\",\r\n",
      "                \"WorkDir\": \"/var/lib/docker/overlay2/f0b4ff8a83f0670e1a5669b6679b8608ce6b12668440075c3c0c1c502516cc9d/work\"\r\n",
      "            },\r\n",
      "            \"Name\": \"overlay2\"\r\n",
      "        },\r\n",
      "        \"Mounts\": [\r\n",
      "            {\r\n",
      "                \"Type\": \"bind\",\r\n",
      "                \"Source\": \"/home/agungw132/Dropbox/Jupyter/influxdb-cluster/myhaproxy\",\r\n",
      "                \"Destination\": \"/usr/local/etc/haproxy\",\r\n",
      "                \"Mode\": \"ro\",\r\n",
      "                \"RW\": false,\r\n",
      "                \"Propagation\": \"rprivate\"\r\n",
      "            }\r\n",
      "        ],\r\n",
      "        \"Config\": {\r\n",
      "            \"Hostname\": \"8cd4a384151f\",\r\n",
      "            \"Domainname\": \"\",\r\n",
      "            \"User\": \"\",\r\n",
      "            \"AttachStdin\": false,\r\n",
      "            \"AttachStdout\": false,\r\n",
      "            \"AttachStderr\": false,\r\n",
      "            \"Tty\": false,\r\n",
      "            \"OpenStdin\": false,\r\n",
      "            \"StdinOnce\": false,\r\n",
      "            \"Env\": [\r\n",
      "                \"PATH=/usr/local/sbin:/usr/local/bin:/usr/sbin:/usr/bin:/sbin:/bin\",\r\n",
      "                \"HAPROXY_MAJOR=1.8\",\r\n",
      "                \"HAPROXY_VERSION=1.8.13\",\r\n",
      "                \"HAPROXY_SHA256=2bf5dafbb5f1530c0e67ab63666565de948591f8e0ee2a1d3c84c45e738220f1\"\r\n",
      "            ],\r\n",
      "            \"Cmd\": [\r\n",
      "                \"haproxy\",\r\n",
      "                \"-f\",\r\n",
      "                \"/usr/local/etc/haproxy/haproxy.cfg\"\r\n",
      "            ],\r\n",
      "            \"ArgsEscaped\": true,\r\n",
      "            \"Image\": \"haproxy\",\r\n",
      "            \"Volumes\": null,\r\n",
      "            \"WorkingDir\": \"\",\r\n",
      "            \"Entrypoint\": [\r\n",
      "                \"/docker-entrypoint.sh\"\r\n",
      "            ],\r\n",
      "            \"OnBuild\": null,\r\n",
      "            \"Labels\": {}\r\n",
      "        },\r\n",
      "        \"NetworkSettings\": {\r\n",
      "            \"Bridge\": \"\",\r\n",
      "            \"SandboxID\": \"1ccd524e7ad76316636baeb0251ec2e2b8d20c57cdf1fb2628b1ccdff09688f8\",\r\n",
      "            \"HairpinMode\": false,\r\n",
      "            \"LinkLocalIPv6Address\": \"\",\r\n",
      "            \"LinkLocalIPv6PrefixLen\": 0,\r\n",
      "            \"Ports\": {},\r\n",
      "            \"SandboxKey\": \"/var/run/docker/netns/1ccd524e7ad7\",\r\n",
      "            \"SecondaryIPAddresses\": null,\r\n",
      "            \"SecondaryIPv6Addresses\": null,\r\n",
      "            \"EndpointID\": \"8a9553d1d60aced2b932399a725f59313bc040fa9ac3de5e85589def39648acf\",\r\n",
      "            \"Gateway\": \"172.17.0.1\",\r\n",
      "            \"GlobalIPv6Address\": \"\",\r\n",
      "            \"GlobalIPv6PrefixLen\": 0,\r\n",
      "            \"IPAddress\": \"172.17.0.5\",\r\n",
      "            \"IPPrefixLen\": 16,\r\n",
      "            \"IPv6Gateway\": \"\",\r\n",
      "            \"MacAddress\": \"02:42:ac:11:00:05\",\r\n",
      "            \"Networks\": {\r\n",
      "                \"bridge\": {\r\n",
      "                    \"IPAMConfig\": null,\r\n",
      "                    \"Links\": null,\r\n",
      "                    \"Aliases\": null,\r\n",
      "                    \"NetworkID\": \"8374b51baff96ae7ba894e126fb27861d24e4cf73033af96252cc7146a5bb97b\",\r\n",
      "                    \"EndpointID\": \"8a9553d1d60aced2b932399a725f59313bc040fa9ac3de5e85589def39648acf\",\r\n",
      "                    \"Gateway\": \"172.17.0.1\",\r\n",
      "                    \"IPAddress\": \"172.17.0.5\",\r\n",
      "                    \"IPPrefixLen\": 16,\r\n",
      "                    \"IPv6Gateway\": \"\",\r\n",
      "                    \"GlobalIPv6Address\": \"\",\r\n",
      "                    \"GlobalIPv6PrefixLen\": 0,\r\n",
      "                    \"MacAddress\": \"02:42:ac:11:00:05\",\r\n",
      "                    \"DriverOpts\": null\r\n",
      "                }\r\n",
      "            }\r\n",
      "        }\r\n",
      "    }\r\n",
      "]\r\n"
     ]
    }
   ],
   "source": [
    "!docker inspect 8cd"
   ]
  },
  {
   "cell_type": "code",
   "execution_count": 16,
   "metadata": {},
   "outputs": [
    {
     "name": "stdout",
     "output_type": "stream",
     "text": [
      "name: databases\r\n",
      "---------------\r\n",
      "name\r\n",
      "_internal\r\n",
      "telegraf\r\n",
      "\r\n"
     ]
    }
   ],
   "source": [
    "#direct to one of the node\n",
    "\n",
    "!influx -host 172.17.0.2 -execute \"show databases\""
   ]
  },
  {
   "cell_type": "code",
   "execution_count": 17,
   "metadata": {},
   "outputs": [
    {
     "name": "stdout",
     "output_type": "stream",
     "text": [
      "name: databases\r\n",
      "---------------\r\n",
      "name\r\n",
      "_internal\r\n",
      "telegraf\r\n",
      "\r\n"
     ]
    }
   ],
   "source": [
    "#via haproxy\n",
    "\n",
    "!influx -host 172.17.0.5 -execute \"show databases\""
   ]
  },
  {
   "cell_type": "code",
   "execution_count": 20,
   "metadata": {},
   "outputs": [
    {
     "name": "stdout",
     "output_type": "stream",
     "text": [
      "user\tadmin\r\n",
      "admin\ttrue\r\n",
      "\r\n"
     ]
    }
   ],
   "source": [
    "!influx -host 172.17.0.2 -execute \"create user admin with password 'admin' with all privileges\"\n",
    "!influx -host 172.17.0.2 -execute \"auth admin admin\"\n",
    "!influx -host 172.17.0.2 -execute \"show users\""
   ]
  },
  {
   "cell_type": "code",
   "execution_count": 23,
   "metadata": {},
   "outputs": [
    {
     "name": "stdout",
     "output_type": "stream",
     "text": [
      "ERR: unable to parse authentication credentials\n",
      "Warning: It is possible this error is due to not setting a database.\n",
      "Please set a database with the command \"use <database>\".\n",
      "unable to parse authentication credentials\n",
      "ERR: unable to parse authentication credentials\n",
      "Warning: It is possible this error is due to not setting a database.\n",
      "Please set a database with the command \"use <database>\".\n",
      "unable to parse authentication credentials\n"
     ]
    }
   ],
   "source": [
    "!influx -host 172.17.0.3 -execute \"create user admin with password 'admin' with all privileges\"\n",
    "!influx -host 172.17.0.3 -execute \"auth admin admin\"\n",
    "!influx -host 172.17.0.3 -execute \"show users\""
   ]
  },
  {
   "cell_type": "code",
   "execution_count": 24,
   "metadata": {},
   "outputs": [
    {
     "name": "stdout",
     "output_type": "stream",
     "text": [
      "57dc8116bf4ef30ad1768aedd63d9936005d580ccbb44b1c9441c9efc3512e6e\r\n"
     ]
    }
   ],
   "source": [
    "#create 2 instance of HAproxy\n",
    "!docker run -d --name my-running-haproxy-2 -v $PWD/myhaproxy:/usr/local/etc/haproxy:ro haproxy"
   ]
  },
  {
   "cell_type": "code",
   "execution_count": 25,
   "metadata": {
    "collapsed": true
   },
   "outputs": [
    {
     "name": "stdout",
     "output_type": "stream",
     "text": [
      "[\r\n",
      "    {\r\n",
      "        \"Id\": \"57dc8116bf4ef30ad1768aedd63d9936005d580ccbb44b1c9441c9efc3512e6e\",\r\n",
      "        \"Created\": \"2018-08-01T01:37:39.217614429Z\",\r\n",
      "        \"Path\": \"/docker-entrypoint.sh\",\r\n",
      "        \"Args\": [\r\n",
      "            \"haproxy\",\r\n",
      "            \"-f\",\r\n",
      "            \"/usr/local/etc/haproxy/haproxy.cfg\"\r\n",
      "        ],\r\n",
      "        \"State\": {\r\n",
      "            \"Status\": \"running\",\r\n",
      "            \"Running\": true,\r\n",
      "            \"Paused\": false,\r\n",
      "            \"Restarting\": false,\r\n",
      "            \"OOMKilled\": false,\r\n",
      "            \"Dead\": false,\r\n",
      "            \"Pid\": 11935,\r\n",
      "            \"ExitCode\": 0,\r\n",
      "            \"Error\": \"\",\r\n",
      "            \"StartedAt\": \"2018-08-01T01:37:39.542150849Z\",\r\n",
      "            \"FinishedAt\": \"0001-01-01T00:00:00Z\"\r\n",
      "        },\r\n",
      "        \"Image\": \"sha256:991c6e578a0d6f0b1c2e0ddf6fcf0ef5a9de18283dc403c4479e5946dbe5408f\",\r\n",
      "        \"ResolvConfPath\": \"/var/lib/docker/containers/57dc8116bf4ef30ad1768aedd63d9936005d580ccbb44b1c9441c9efc3512e6e/resolv.conf\",\r\n",
      "        \"HostnamePath\": \"/var/lib/docker/containers/57dc8116bf4ef30ad1768aedd63d9936005d580ccbb44b1c9441c9efc3512e6e/hostname\",\r\n",
      "        \"HostsPath\": \"/var/lib/docker/containers/57dc8116bf4ef30ad1768aedd63d9936005d580ccbb44b1c9441c9efc3512e6e/hosts\",\r\n",
      "        \"LogPath\": \"/var/lib/docker/containers/57dc8116bf4ef30ad1768aedd63d9936005d580ccbb44b1c9441c9efc3512e6e/57dc8116bf4ef30ad1768aedd63d9936005d580ccbb44b1c9441c9efc3512e6e-json.log\",\r\n",
      "        \"Name\": \"/my-running-haproxy-2\",\r\n",
      "        \"RestartCount\": 0,\r\n",
      "        \"Driver\": \"overlay2\",\r\n",
      "        \"Platform\": \"linux\",\r\n",
      "        \"MountLabel\": \"\",\r\n",
      "        \"ProcessLabel\": \"\",\r\n",
      "        \"AppArmorProfile\": \"docker-default\",\r\n",
      "        \"ExecIDs\": null,\r\n",
      "        \"HostConfig\": {\r\n",
      "            \"Binds\": [\r\n",
      "                \"/home/agungw132/Dropbox/Jupyter/influxdb-cluster/myhaproxy:/usr/local/etc/haproxy:ro\"\r\n",
      "            ],\r\n",
      "            \"ContainerIDFile\": \"\",\r\n",
      "            \"LogConfig\": {\r\n",
      "                \"Type\": \"json-file\",\r\n",
      "                \"Config\": {}\r\n",
      "            },\r\n",
      "            \"NetworkMode\": \"default\",\r\n",
      "            \"PortBindings\": {},\r\n",
      "            \"RestartPolicy\": {\r\n",
      "                \"Name\": \"no\",\r\n",
      "                \"MaximumRetryCount\": 0\r\n",
      "            },\r\n",
      "            \"AutoRemove\": false,\r\n",
      "            \"VolumeDriver\": \"\",\r\n",
      "            \"VolumesFrom\": null,\r\n",
      "            \"CapAdd\": null,\r\n",
      "            \"CapDrop\": null,\r\n",
      "            \"Dns\": [],\r\n",
      "            \"DnsOptions\": [],\r\n",
      "            \"DnsSearch\": [],\r\n",
      "            \"ExtraHosts\": null,\r\n",
      "            \"GroupAdd\": null,\r\n",
      "            \"IpcMode\": \"shareable\",\r\n",
      "            \"Cgroup\": \"\",\r\n",
      "            \"Links\": null,\r\n",
      "            \"OomScoreAdj\": 0,\r\n",
      "            \"PidMode\": \"\",\r\n",
      "            \"Privileged\": false,\r\n",
      "            \"PublishAllPorts\": false,\r\n",
      "            \"ReadonlyRootfs\": false,\r\n",
      "            \"SecurityOpt\": null,\r\n",
      "            \"UTSMode\": \"\",\r\n",
      "            \"UsernsMode\": \"\",\r\n",
      "            \"ShmSize\": 67108864,\r\n",
      "            \"Runtime\": \"runc\",\r\n",
      "            \"ConsoleSize\": [\r\n",
      "                0,\r\n",
      "                0\r\n",
      "            ],\r\n",
      "            \"Isolation\": \"\",\r\n",
      "            \"CpuShares\": 0,\r\n",
      "            \"Memory\": 0,\r\n",
      "            \"NanoCpus\": 0,\r\n",
      "            \"CgroupParent\": \"\",\r\n",
      "            \"BlkioWeight\": 0,\r\n",
      "            \"BlkioWeightDevice\": [],\r\n",
      "            \"BlkioDeviceReadBps\": null,\r\n",
      "            \"BlkioDeviceWriteBps\": null,\r\n",
      "            \"BlkioDeviceReadIOps\": null,\r\n",
      "            \"BlkioDeviceWriteIOps\": null,\r\n",
      "            \"CpuPeriod\": 0,\r\n",
      "            \"CpuQuota\": 0,\r\n",
      "            \"CpuRealtimePeriod\": 0,\r\n",
      "            \"CpuRealtimeRuntime\": 0,\r\n",
      "            \"CpusetCpus\": \"\",\r\n",
      "            \"CpusetMems\": \"\",\r\n",
      "            \"Devices\": [],\r\n",
      "            \"DeviceCgroupRules\": null,\r\n",
      "            \"DiskQuota\": 0,\r\n",
      "            \"KernelMemory\": 0,\r\n",
      "            \"MemoryReservation\": 0,\r\n",
      "            \"MemorySwap\": 0,\r\n",
      "            \"MemorySwappiness\": null,\r\n",
      "            \"OomKillDisable\": false,\r\n",
      "            \"PidsLimit\": 0,\r\n",
      "            \"Ulimits\": null,\r\n",
      "            \"CpuCount\": 0,\r\n",
      "            \"CpuPercent\": 0,\r\n",
      "            \"IOMaximumIOps\": 0,\r\n",
      "            \"IOMaximumBandwidth\": 0,\r\n",
      "            \"MaskedPaths\": [\r\n",
      "                \"/proc/acpi\",\r\n",
      "                \"/proc/kcore\",\r\n",
      "                \"/proc/keys\",\r\n",
      "                \"/proc/latency_stats\",\r\n",
      "                \"/proc/timer_list\",\r\n",
      "                \"/proc/timer_stats\",\r\n",
      "                \"/proc/sched_debug\",\r\n",
      "                \"/proc/scsi\",\r\n",
      "                \"/sys/firmware\"\r\n",
      "            ],\r\n",
      "            \"ReadonlyPaths\": [\r\n",
      "                \"/proc/asound\",\r\n",
      "                \"/proc/bus\",\r\n",
      "                \"/proc/fs\",\r\n",
      "                \"/proc/irq\",\r\n",
      "                \"/proc/sys\",\r\n",
      "                \"/proc/sysrq-trigger\"\r\n",
      "            ]\r\n",
      "        },\r\n",
      "        \"GraphDriver\": {\r\n",
      "            \"Data\": {\r\n",
      "                \"LowerDir\": \"/var/lib/docker/overlay2/0060bd725d689715784c527ac8b8ae8c15410cc0afc591303c0b711e160cb517-init/diff:/var/lib/docker/overlay2/f70a1278b0417caff915cf0a2d1615836aa21bd5a2fe94c47258fba88b09ff09/diff:/var/lib/docker/overlay2/ea871cb0f9e56e495db3dcde9f37d4b3045e63ec530e7bb0c3ddaf361b59542f/diff:/var/lib/docker/overlay2/471680a7ffa2a118855fbe213faf9c0e11a28e4e0a3f183e6e97ed8dffb85ea1/diff\",\r\n",
      "                \"MergedDir\": \"/var/lib/docker/overlay2/0060bd725d689715784c527ac8b8ae8c15410cc0afc591303c0b711e160cb517/merged\",\r\n",
      "                \"UpperDir\": \"/var/lib/docker/overlay2/0060bd725d689715784c527ac8b8ae8c15410cc0afc591303c0b711e160cb517/diff\",\r\n",
      "                \"WorkDir\": \"/var/lib/docker/overlay2/0060bd725d689715784c527ac8b8ae8c15410cc0afc591303c0b711e160cb517/work\"\r\n",
      "            },\r\n",
      "            \"Name\": \"overlay2\"\r\n",
      "        },\r\n",
      "        \"Mounts\": [\r\n",
      "            {\r\n",
      "                \"Type\": \"bind\",\r\n",
      "                \"Source\": \"/home/agungw132/Dropbox/Jupyter/influxdb-cluster/myhaproxy\",\r\n",
      "                \"Destination\": \"/usr/local/etc/haproxy\",\r\n",
      "                \"Mode\": \"ro\",\r\n",
      "                \"RW\": false,\r\n",
      "                \"Propagation\": \"rprivate\"\r\n",
      "            }\r\n",
      "        ],\r\n",
      "        \"Config\": {\r\n",
      "            \"Hostname\": \"57dc8116bf4e\",\r\n",
      "            \"Domainname\": \"\",\r\n",
      "            \"User\": \"\",\r\n",
      "            \"AttachStdin\": false,\r\n",
      "            \"AttachStdout\": false,\r\n",
      "            \"AttachStderr\": false,\r\n",
      "            \"Tty\": false,\r\n",
      "            \"OpenStdin\": false,\r\n",
      "            \"StdinOnce\": false,\r\n",
      "            \"Env\": [\r\n",
      "                \"PATH=/usr/local/sbin:/usr/local/bin:/usr/sbin:/usr/bin:/sbin:/bin\",\r\n",
      "                \"HAPROXY_MAJOR=1.8\",\r\n",
      "                \"HAPROXY_VERSION=1.8.13\",\r\n",
      "                \"HAPROXY_SHA256=2bf5dafbb5f1530c0e67ab63666565de948591f8e0ee2a1d3c84c45e738220f1\"\r\n",
      "            ],\r\n",
      "            \"Cmd\": [\r\n",
      "                \"haproxy\",\r\n",
      "                \"-f\",\r\n",
      "                \"/usr/local/etc/haproxy/haproxy.cfg\"\r\n",
      "            ],\r\n",
      "            \"ArgsEscaped\": true,\r\n",
      "            \"Image\": \"haproxy\",\r\n",
      "            \"Volumes\": null,\r\n",
      "            \"WorkingDir\": \"\",\r\n",
      "            \"Entrypoint\": [\r\n",
      "                \"/docker-entrypoint.sh\"\r\n",
      "            ],\r\n",
      "            \"OnBuild\": null,\r\n",
      "            \"Labels\": {}\r\n",
      "        },\r\n",
      "        \"NetworkSettings\": {\r\n",
      "            \"Bridge\": \"\",\r\n",
      "            \"SandboxID\": \"48a9cfd80bff3111f46fecf887af7d04670505ea67b63ee1a1d3e1b686436db9\",\r\n",
      "            \"HairpinMode\": false,\r\n",
      "            \"LinkLocalIPv6Address\": \"\",\r\n",
      "            \"LinkLocalIPv6PrefixLen\": 0,\r\n",
      "            \"Ports\": {},\r\n",
      "            \"SandboxKey\": \"/var/run/docker/netns/48a9cfd80bff\",\r\n",
      "            \"SecondaryIPAddresses\": null,\r\n",
      "            \"SecondaryIPv6Addresses\": null,\r\n",
      "            \"EndpointID\": \"22d71f062cff62c05716a45d492705e658e1b632f389e2877c9601f0d3cb7d65\",\r\n",
      "            \"Gateway\": \"172.17.0.1\",\r\n",
      "            \"GlobalIPv6Address\": \"\",\r\n",
      "            \"GlobalIPv6PrefixLen\": 0,\r\n",
      "            \"IPAddress\": \"172.17.0.6\",\r\n",
      "            \"IPPrefixLen\": 16,\r\n",
      "            \"IPv6Gateway\": \"\",\r\n",
      "            \"MacAddress\": \"02:42:ac:11:00:06\",\r\n",
      "            \"Networks\": {\r\n",
      "                \"bridge\": {\r\n",
      "                    \"IPAMConfig\": null,\r\n",
      "                    \"Links\": null,\r\n",
      "                    \"Aliases\": null,\r\n",
      "                    \"NetworkID\": \"8374b51baff96ae7ba894e126fb27861d24e4cf73033af96252cc7146a5bb97b\",\r\n",
      "                    \"EndpointID\": \"22d71f062cff62c05716a45d492705e658e1b632f389e2877c9601f0d3cb7d65\",\r\n",
      "                    \"Gateway\": \"172.17.0.1\",\r\n",
      "                    \"IPAddress\": \"172.17.0.6\",\r\n",
      "                    \"IPPrefixLen\": 16,\r\n",
      "                    \"IPv6Gateway\": \"\",\r\n",
      "                    \"GlobalIPv6Address\": \"\",\r\n",
      "                    \"GlobalIPv6PrefixLen\": 0,\r\n",
      "                    \"MacAddress\": \"02:42:ac:11:00:06\",\r\n",
      "                    \"DriverOpts\": null\r\n",
      "                }\r\n",
      "            }\r\n",
      "        }\r\n",
      "    }\r\n",
      "]\r\n"
     ]
    }
   ],
   "source": [
    "!docker inspect my-running-haproxy-2"
   ]
  },
  {
   "cell_type": "code",
   "execution_count": null,
   "metadata": {},
   "outputs": [],
   "source": []
  }
 ],
 "metadata": {
  "kernelspec": {
   "display_name": "Python 3",
   "language": "python",
   "name": "python3"
  },
  "language_info": {
   "codemirror_mode": {
    "name": "ipython",
    "version": 3
   },
   "file_extension": ".py",
   "mimetype": "text/x-python",
   "name": "python",
   "nbconvert_exporter": "python",
   "pygments_lexer": "ipython3",
   "version": "3.5.2"
  }
 },
 "nbformat": 4,
 "nbformat_minor": 2
}
