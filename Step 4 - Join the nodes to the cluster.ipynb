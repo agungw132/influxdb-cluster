{
 "cells": [
  {
   "cell_type": "markdown",
   "metadata": {},
   "source": [
    "On the first server, join its meta node and data node to the cluster by entering:\n",
    "\n",
    "influxd-ctl join"
   ]
  },
  {
   "cell_type": "code",
   "execution_count": 1,
   "metadata": {},
   "outputs": [
    {
     "name": "stdout",
     "output_type": "stream",
     "text": [
      "Joining meta node at localhost:8091\n",
      "Searching for meta node on influx-cluster-1:8091...\n",
      "Searching for data node on influx-cluster-1:8088...\n",
      "\n",
      "Failed to join cluster.  Run with -v to see more information\n"
     ]
    }
   ],
   "source": [
    "!docker exec -it influx-cluster-1 influxd-ctl join"
   ]
  },
  {
   "cell_type": "code",
   "execution_count": 3,
   "metadata": {},
   "outputs": [
    {
     "name": "stdout",
     "output_type": "stream",
     "text": [
      "Joining meta node at localhost:8091\r\n",
      "Searching for meta node on influx-cluster-1:8091...\r\n",
      "Searching for data node on influx-cluster-1:8088...\r\n",
      "\r\n",
      "Successfully created cluster\r\n",
      "\r\n",
      "  * Added meta node 1 at influx-cluster-1:8091\r\n",
      "  * Added data node 2 at influx-cluster-1:8088\r\n",
      "\r\n",
      "  To join additional nodes to this cluster, run the following command:\r\n",
      "\r\n",
      "  influxd-ctl join influx-cluster-1:8091\r\n",
      "\r\n"
     ]
    }
   ],
   "source": [
    "!docker exec -it influx-cluster-1 influxd-ctl join -v"
   ]
  },
  {
   "cell_type": "code",
   "execution_count": 4,
   "metadata": {},
   "outputs": [
    {
     "name": "stdout",
     "output_type": "stream",
     "text": [
      "Data Nodes\r\n",
      "==========\r\n",
      "ID\tTCP Address\t\tVersion\r\n",
      "2\tinflux-cluster-1:8088\t1.5.4-c1.5.4\r\n",
      "\r\n",
      "Meta Nodes\r\n",
      "==========\r\n",
      "TCP Address\t\tVersion\r\n",
      "influx-cluster-1:8091\t1.5.4-c1.5.4\r\n"
     ]
    }
   ],
   "source": [
    "!docker exec -it influx-cluster-1 influxd-ctl show"
   ]
  },
  {
   "cell_type": "markdown",
   "metadata": {},
   "source": [
    "### Second server"
   ]
  },
  {
   "cell_type": "code",
   "execution_count": 7,
   "metadata": {},
   "outputs": [
    {
     "name": "stdout",
     "output_type": "stream",
     "text": [
      "Joining meta node at influx-cluster-1:8091\n",
      "Searching for meta node on influx-cluster-2:8091...\n",
      "Searching for data node on influx-cluster-2:8088...\n",
      "\n",
      "Successfully joined cluster\n",
      "\n",
      "  * Added meta node 3 at influx-cluster-2:8091\n",
      "  * Added data node 4 at influx-cluster-2:8088\n"
     ]
    }
   ],
   "source": [
    "!docker exec -it influx-cluster-2 influxd-ctl join -v influx-cluster-1:8091"
   ]
  },
  {
   "cell_type": "markdown",
   "metadata": {},
   "source": [
    "### Third server"
   ]
  },
  {
   "cell_type": "code",
   "execution_count": 8,
   "metadata": {},
   "outputs": [
    {
     "name": "stdout",
     "output_type": "stream",
     "text": [
      "Joining meta node at influx-cluster-1:8091\n",
      "Searching for meta node on influx-cluster-3:8091...\n",
      "Searching for data node on influx-cluster-3:8088...\n",
      "\n",
      "Successfully joined cluster\n",
      "\n",
      "  * Added meta node 5 at influx-cluster-3:8091\n",
      "  * Added data node 6 at influx-cluster-3:8088\n"
     ]
    }
   ],
   "source": [
    "!docker exec -it influx-cluster-3 influxd-ctl join -v influx-cluster-1:8091"
   ]
  },
  {
   "cell_type": "code",
   "execution_count": 9,
   "metadata": {},
   "outputs": [
    {
     "name": "stdout",
     "output_type": "stream",
     "text": [
      "Data Nodes\r\n",
      "==========\r\n",
      "ID\tTCP Address\t\tVersion\r\n",
      "2\tinflux-cluster-1:8088\t1.5.4-c1.5.4\r\n",
      "4\tinflux-cluster-2:8088\t1.5.4-c1.5.4\r\n",
      "6\tinflux-cluster-3:8088\t1.5.4-c1.5.4\r\n",
      "\r\n",
      "Meta Nodes\r\n",
      "==========\r\n",
      "TCP Address\t\tVersion\r\n",
      "influx-cluster-1:8091\t1.5.4-c1.5.4\r\n",
      "influx-cluster-2:8091\t1.5.4-c1.5.4\r\n",
      "influx-cluster-3:8091\t1.5.4-c1.5.4\r\n"
     ]
    }
   ],
   "source": [
    "!docker exec -it influx-cluster-1 influxd-ctl show"
   ]
  },
  {
   "cell_type": "code",
   "execution_count": null,
   "metadata": {},
   "outputs": [],
   "source": []
  }
 ],
 "metadata": {
  "kernelspec": {
   "display_name": "Python 3",
   "language": "python",
   "name": "python3"
  },
  "language_info": {
   "codemirror_mode": {
    "name": "ipython",
    "version": 3
   },
   "file_extension": ".py",
   "mimetype": "text/x-python",
   "name": "python",
   "nbconvert_exporter": "python",
   "pygments_lexer": "ipython3",
   "version": "3.5.2"
  }
 },
 "nbformat": 4,
 "nbformat_minor": 2
}
