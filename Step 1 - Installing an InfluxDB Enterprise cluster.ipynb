{
 "cells": [
  {
   "cell_type": "markdown",
   "metadata": {},
   "source": [
    "## Create 3 instances"
   ]
  },
  {
   "cell_type": "code",
   "execution_count": 1,
   "metadata": {},
   "outputs": [
    {
     "name": "stdout",
     "output_type": "stream",
     "text": [
      "CONTAINER ID        IMAGE               COMMAND             CREATED             STATUS              PORTS               NAMES\r\n"
     ]
    }
   ],
   "source": [
    "!docker ps"
   ]
  },
  {
   "cell_type": "code",
   "execution_count": 2,
   "metadata": {},
   "outputs": [
    {
     "name": "stdout",
     "output_type": "stream",
     "text": [
      "16.04: Pulling from library/ubuntu\n",
      "\n",
      "\u001b[1B9e426c26: Pulling fs layer \n",
      "\u001b[1Bb260b73b: Pulling fs layer \n",
      "\u001b[1B65fd1143: Pulling fs layer \n",
      "\u001b[1Ba07f8222: Pulling fs layer \n",
      "\u001b[1BDigest: sha256:3097ac92b852f878f802c22a38f97b097b4084dbef82893ba453ba0297d76a6a\u001b[K\u001b[5A\u001b[1K\u001b[K\u001b[5A\u001b[1K\u001b[K\u001b[1A\u001b[1K\u001b[K\u001b[5A\u001b[1K\u001b[K\u001b[5A\u001b[1K\u001b[K\u001b[5A\u001b[1K\u001b[K\u001b[5A\u001b[1K\u001b[K\u001b[5A\u001b[1K\u001b[K\u001b[5A\u001b[1K\u001b[K\u001b[5A\u001b[1K\u001b[K\u001b[5A\u001b[1K\u001b[K\u001b[5A\u001b[1K\u001b[K\u001b[5A\u001b[1K\u001b[K\u001b[5A\u001b[1K\u001b[K\u001b[5A\u001b[1K\u001b[K\u001b[5A\u001b[1K\u001b[K\u001b[5A\u001b[1K\u001b[K\u001b[5A\u001b[1K\u001b[K\u001b[5A\u001b[1K\u001b[KDownloading  26.07MB/43.23MB\u001b[5A\u001b[1K\u001b[K\u001b[5A\u001b[1K\u001b[K\u001b[5A\u001b[1K\u001b[K\u001b[5A\u001b[1K\u001b[K\u001b[5A\u001b[1K\u001b[K\u001b[5A\u001b[1K\u001b[K\u001b[5A\u001b[1K\u001b[K\u001b[5A\u001b[1K\u001b[K\u001b[5A\u001b[1K\u001b[K\u001b[5A\u001b[1K\u001b[K\u001b[5A\u001b[1K\u001b[K\u001b[5A\u001b[1K\u001b[K\u001b[5A\u001b[1K\u001b[K\u001b[5A\u001b[1K\u001b[K\u001b[5A\u001b[1K\u001b[K\u001b[5A\u001b[1K\u001b[K\u001b[5A\u001b[1K\u001b[K\u001b[5A\u001b[1K\u001b[K\u001b[5A\u001b[1K\u001b[K\u001b[5A\u001b[1K\u001b[K\u001b[5A\u001b[1K\u001b[K\u001b[5A\u001b[1K\u001b[K\u001b[5A\u001b[1K\u001b[K\u001b[5A\u001b[1K\u001b[K\u001b[5A\u001b[1K\u001b[K\u001b[5A\u001b[1K\u001b[K\u001b[5A\u001b[1K\u001b[K\u001b[5A\u001b[1K\u001b[K\u001b[5A\u001b[1K\u001b[K\u001b[5A\u001b[1K\u001b[K\u001b[5A\u001b[1K\u001b[K\u001b[5A\u001b[1K\u001b[K\u001b[5A\u001b[1K\u001b[K\u001b[5A\u001b[1K\u001b[K\u001b[5A\u001b[1K\u001b[K\u001b[5A\u001b[1K\u001b[K\u001b[5A\u001b[1K\u001b[K\u001b[5A\u001b[1K\u001b[K\u001b[5A\u001b[1K\u001b[K\u001b[5A\u001b[1K\u001b[K\u001b[4A\u001b[1K\u001b[K\u001b[4A\u001b[1K\u001b[K\u001b[3A\u001b[1K\u001b[K\u001b[2A\u001b[1K\u001b[K\u001b[1A\u001b[1K\u001b[K\n",
      "Status: Downloaded newer image for ubuntu:16.04\n"
     ]
    }
   ],
   "source": [
    "!docker pull ubuntu:16.04"
   ]
  },
  {
   "cell_type": "code",
   "execution_count": 3,
   "metadata": {},
   "outputs": [
    {
     "name": "stdout",
     "output_type": "stream",
     "text": [
      "REPOSITORY            TAG                 IMAGE ID            CREATED             SIZE\r\n",
      "awesome               v2                  02e56bf30362        7 hours ago         674MB\r\n",
      "awesome               latest              50381a421f3e        8 hours ago         674MB\r\n",
      "ubuntu                16.04               7aa3602ab41e        4 days ago          115MB\r\n",
      "haproxy               latest              3b10abf01813        5 days ago          69.5MB\r\n",
      "node                  latest              52fe93b8eea7        10 days ago         674MB\r\n",
      "redis                 latest              f06a5773f01e        13 days ago         83.4MB\r\n",
      "dockercloud/haproxy   <none>              4d6ae6c16c4d        7 months ago        42.6MB\r\n"
     ]
    }
   ],
   "source": [
    "!docker images"
   ]
  },
  {
   "cell_type": "code",
   "execution_count": 12,
   "metadata": {},
   "outputs": [
    {
     "name": "stdout",
     "output_type": "stream",
     "text": [
      "232ae55d8ab477e8f44e27f41bbcf45b60b243f32fb33bc8e4a0b966d1a91053\r\n"
     ]
    }
   ],
   "source": [
    "!docker run -d --name influx-cluster-1 --hostname influx-cluster-1 ubuntu:16.04 sleep 9999999999999999999"
   ]
  },
  {
   "cell_type": "code",
   "execution_count": 13,
   "metadata": {},
   "outputs": [
    {
     "name": "stdout",
     "output_type": "stream",
     "text": [
      "CONTAINER ID        IMAGE               COMMAND                  CREATED             STATUS              PORTS               NAMES\r\n",
      "232ae55d8ab4        ubuntu:16.04        \"sleep 9999999999999…\"   4 seconds ago       Up 3 seconds                            influx-cluster-1\r\n"
     ]
    }
   ],
   "source": [
    "!docker ps "
   ]
  },
  {
   "cell_type": "code",
   "execution_count": 14,
   "metadata": {},
   "outputs": [
    {
     "name": "stdout",
     "output_type": "stream",
     "text": [
      "4a5974247f7010bf9cd94fe1c575f7d36ea9491b163dd4ab7f2f5ed888d247ce\r\n"
     ]
    }
   ],
   "source": [
    "!docker run -d --name influx-cluster-2 --hostname influx-cluster-2 ubuntu:16.04 sleep 9999999999999999999"
   ]
  },
  {
   "cell_type": "code",
   "execution_count": 15,
   "metadata": {},
   "outputs": [
    {
     "name": "stdout",
     "output_type": "stream",
     "text": [
      "9e04dcafd7a6496856b5f706da3dfe3d37875d48327a268f3606ca352e1bca94\r\n"
     ]
    }
   ],
   "source": [
    "!docker run -d --name influx-cluster-3 --hostname influx-cluster-3 ubuntu:16.04 sleep 9999999999999999999"
   ]
  },
  {
   "cell_type": "code",
   "execution_count": 16,
   "metadata": {},
   "outputs": [
    {
     "name": "stdout",
     "output_type": "stream",
     "text": [
      "CONTAINER ID        IMAGE               COMMAND                  CREATED             STATUS              PORTS               NAMES\r\n",
      "9e04dcafd7a6        ubuntu:16.04        \"sleep 9999999999999…\"   3 seconds ago       Up 1 second                             influx-cluster-3\r\n",
      "4a5974247f70        ubuntu:16.04        \"sleep 9999999999999…\"   14 seconds ago      Up 13 seconds                           influx-cluster-2\r\n",
      "232ae55d8ab4        ubuntu:16.04        \"sleep 9999999999999…\"   27 seconds ago      Up 26 seconds                           influx-cluster-1\r\n"
     ]
    }
   ],
   "source": [
    "!docker ps"
   ]
  },
  {
   "cell_type": "code",
   "execution_count": 17,
   "metadata": {},
   "outputs": [
    {
     "name": "stdout",
     "output_type": "stream",
     "text": [
      "127.0.0.1\tlocalhost\r\n",
      "::1\tlocalhost ip6-localhost ip6-loopback\r\n",
      "fe00::0\tip6-localnet\r\n",
      "ff00::0\tip6-mcastprefix\r\n",
      "ff02::1\tip6-allnodes\r\n",
      "ff02::2\tip6-allrouters\r\n",
      "172.17.0.2\tinflux-cluster-1\r\n"
     ]
    }
   ],
   "source": [
    "!docker exec -it influx-cluster-1 cat /etc/hosts"
   ]
  },
  {
   "cell_type": "code",
   "execution_count": 18,
   "metadata": {},
   "outputs": [
    {
     "name": "stdout",
     "output_type": "stream",
     "text": [
      "127.0.0.1\tlocalhost\r\n",
      "::1\tlocalhost ip6-localhost ip6-loopback\r\n",
      "fe00::0\tip6-localnet\r\n",
      "ff00::0\tip6-mcastprefix\r\n",
      "ff02::1\tip6-allnodes\r\n",
      "ff02::2\tip6-allrouters\r\n",
      "172.17.0.3\tinflux-cluster-2\r\n"
     ]
    }
   ],
   "source": [
    "!docker exec -it influx-cluster-2 cat /etc/hosts"
   ]
  },
  {
   "cell_type": "code",
   "execution_count": 19,
   "metadata": {},
   "outputs": [
    {
     "name": "stdout",
     "output_type": "stream",
     "text": [
      "127.0.0.1\tlocalhost\r\n",
      "::1\tlocalhost ip6-localhost ip6-loopback\r\n",
      "fe00::0\tip6-localnet\r\n",
      "ff00::0\tip6-mcastprefix\r\n",
      "ff02::1\tip6-allnodes\r\n",
      "ff02::2\tip6-allrouters\r\n",
      "172.17.0.4\tinflux-cluster-3\r\n"
     ]
    }
   ],
   "source": [
    "!docker exec -it influx-cluster-3 cat /etc/hosts"
   ]
  },
  {
   "cell_type": "code",
   "execution_count": 25,
   "metadata": {},
   "outputs": [
    {
     "name": "stdout",
     "output_type": "stream",
     "text": [
      "/bin/sh: 1: cannot create /etc/hosts: Permission denied\r\n"
     ]
    }
   ],
   "source": [
    "# Add manually from docker exec for server-1\n",
    "echo -e \"172.17.0.3\\tinflux-cluster-2\" >> /etc/hosts\n",
    "echo -e \"172.17.0.4\\tinflux-cluster-3\" >> /etc/hosts"
   ]
  },
  {
   "cell_type": "code",
   "execution_count": 27,
   "metadata": {},
   "outputs": [
    {
     "name": "stdout",
     "output_type": "stream",
     "text": [
      "127.0.0.1\tlocalhost\r\n",
      "::1\tlocalhost ip6-localhost ip6-loopback\r\n",
      "fe00::0\tip6-localnet\r\n",
      "ff00::0\tip6-mcastprefix\r\n",
      "ff02::1\tip6-allnodes\r\n",
      "ff02::2\tip6-allrouters\r\n",
      "172.17.0.2\tinflux-cluster-1\r\n",
      "172.17.0.3\tinflux-cluster-2\r\n",
      "172.17.0.4\tinflux-cluster-3\r\n"
     ]
    }
   ],
   "source": [
    "!docker exec -it influx-cluster-1 cat /etc/hosts"
   ]
  },
  {
   "cell_type": "code",
   "execution_count": 22,
   "metadata": {},
   "outputs": [
    {
     "name": "stdout",
     "output_type": "stream",
     "text": [
      "127.0.0.1\tlocalhost\r\n",
      "::1\tlocalhost ip6-localhost ip6-loopback\r\n",
      "fe00::0\tip6-localnet\r\n",
      "ff00::0\tip6-mcastprefix\r\n",
      "ff02::1\tip6-allnodes\r\n",
      "ff02::2\tip6-allrouters\r\n",
      "172.17.0.2\tinflux-cluster-1\r\n"
     ]
    }
   ],
   "source": [
    "# Add manually from docker exec for server-2\n",
    "echo -e \"172.17.0.2\\tinflux-cluster-1\" >> /etc/hosts\n",
    "echo -e \"172.17.0.4\\tinflux-cluster-3\" >> /etc/hosts"
   ]
  },
  {
   "cell_type": "code",
   "execution_count": 29,
   "metadata": {},
   "outputs": [
    {
     "name": "stdout",
     "output_type": "stream",
     "text": [
      "127.0.0.1\tlocalhost\r\n",
      "::1\tlocalhost ip6-localhost ip6-loopback\r\n",
      "fe00::0\tip6-localnet\r\n",
      "ff00::0\tip6-mcastprefix\r\n",
      "ff02::1\tip6-allnodes\r\n",
      "ff02::2\tip6-allrouters\r\n",
      "172.17.0.3\tinflux-cluster-2\r\n",
      "172.17.0.2\tinflux-cluster-1\r\n",
      "172.17.0.4\tinflux-cluster-3\r\n"
     ]
    }
   ],
   "source": [
    "!docker exec -it influx-cluster-2 cat /etc/hosts"
   ]
  },
  {
   "cell_type": "code",
   "execution_count": null,
   "metadata": {},
   "outputs": [],
   "source": [
    "# Add manually from docker exec for server-3\n",
    "echo -e \"172.17.0.2\\tinflux-cluster-1\" >> /etc/hosts\n",
    "echo -e \"172.17.0.3\\tinflux-cluster-2\" >> /etc/hosts"
   ]
  },
  {
   "cell_type": "code",
   "execution_count": 32,
   "metadata": {},
   "outputs": [
    {
     "name": "stdout",
     "output_type": "stream",
     "text": [
      "127.0.0.1\tlocalhost\r\n",
      "::1\tlocalhost ip6-localhost ip6-loopback\r\n",
      "fe00::0\tip6-localnet\r\n",
      "ff00::0\tip6-mcastprefix\r\n",
      "ff02::1\tip6-allnodes\r\n",
      "ff02::2\tip6-allrouters\r\n",
      "172.17.0.2\tinflux-cluster-1\r\n",
      "172.17.0.3\tinflux-cluster-2\r\n",
      "172.17.0.4\tinflux-cluster-3\r\n"
     ]
    }
   ],
   "source": [
    "!docker exec -it influx-cluster-3 cat /etc/hosts"
   ]
  },
  {
   "cell_type": "code",
   "execution_count": null,
   "metadata": {},
   "outputs": [],
   "source": []
  }
 ],
 "metadata": {
  "kernelspec": {
   "display_name": "Python 3",
   "language": "python",
   "name": "python3"
  },
  "language_info": {
   "codemirror_mode": {
    "name": "ipython",
    "version": 3
   },
   "file_extension": ".py",
   "mimetype": "text/x-python",
   "name": "python",
   "nbconvert_exporter": "python",
   "pygments_lexer": "ipython3",
   "version": "3.5.2"
  }
 },
 "nbformat": 4,
 "nbformat_minor": 2
}
