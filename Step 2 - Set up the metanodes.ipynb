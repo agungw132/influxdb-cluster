{
 "cells": [
  {
   "cell_type": "code",
   "execution_count": 1,
   "metadata": {},
   "outputs": [
    {
     "name": "stdout",
     "output_type": "stream",
     "text": [
      "OCI runtime exec failed: exec failed: container_linux.go:348: starting container process caused \"exec: \\\"wget\\\": executable file not found in $PATH\": unknown\r\n"
     ]
    }
   ],
   "source": [
    "!docker exec -it influx-cluster-1 wget https://dl.influxdata.com/enterprise/releases/influxdb-meta_1.5.4-c1.5.4_amd64.deb"
   ]
  },
  {
   "cell_type": "code",
   "execution_count": 2,
   "metadata": {},
   "outputs": [
    {
     "name": "stdout",
     "output_type": "stream",
     "text": [
      "OCI runtime exec failed: exec failed: container_linux.go:348: starting container process caused \"exec: \\\"sudo\\\": executable file not found in $PATH\": unknown\r\n"
     ]
    }
   ],
   "source": [
    "!docker exec -it influx-cluster-1 sudo apt install wget"
   ]
  },
  {
   "cell_type": "code",
   "execution_count": null,
   "metadata": {},
   "outputs": [],
   "source": [
    "# Get and install the metanode package in each server\n",
    "wget https://dl.influxdata.com/enterprise/releases/influxdb-meta_1.5.4-c1.5.4_amd64.deb\n",
    "sudo dpkg -i influxdb-meta_1.5.4-c1.5.4_amd64.deb"
   ]
  },
  {
   "cell_type": "markdown",
   "metadata": {},
   "source": [
    "In /etc/influxdb/influxdb-meta.conf:\n",
    "\n",
    "uncomment and set hostname to the full hostname of the meta node\n",
    "set license-key in the [enterprise] section to the license key you received on InfluxPortal OR license-path in the [enterprise] section to the local path to the JSON license file you received from InfluxData."
   ]
  },
  {
   "cell_type": "code",
   "execution_count": null,
   "metadata": {},
   "outputs": [],
   "source": [
    "License key trial: 7312788d-74ba-4c51-ac3e-1c08903825b7"
   ]
  },
  {
   "cell_type": "code",
   "execution_count": 3,
   "metadata": {
    "collapsed": true
   },
   "outputs": [
    {
     "name": "stdout",
     "output_type": "stream",
     "text": [
      "### Welcome to the InfluxDB Enterprise configuration file.\r\n",
      "\r\n",
      "# The values in this file override the default values used by the system if\r\n",
      "# a config option is not specified.  The commented out lines are the configuration\r\n",
      "# field and the default value used.  Uncommenting a line and changing the value\r\n",
      "# will change the value used at runtime when the process is restarted.\r\n",
      "\r\n",
      "# Once every 24 hours InfluxDB Enterprise will report usage data to usage.influxdata.com\r\n",
      "# The data includes a random ID, os, arch, version, the number of series and other\r\n",
      "# usage data. No data from user databases is ever transmitted.\r\n",
      "# Change this option to true to disable reporting.\r\n",
      "# reporting-disabled = false\r\n",
      "\r\n",
      "# The TCP bind address to use for the cluster-internal meta services.\r\n",
      "# bind-address = \":8091\"\r\n",
      "\r\n",
      "# Hostname advertised by this host for remote addresses.  This must be resolvable by all\r\n",
      "# other nodes in the cluster.\r\n",
      "# hostname = \"\"\r\n",
      "\r\n",
      "###\r\n",
      "### [enterprise]\r\n",
      "###\r\n",
      "### Settings related to enterprise licensing.\r\n",
      "###\r\n",
      "\r\n",
      "[enterprise]\r\n",
      "  # Must be set to true to use the Enterprise Web UI\r\n",
      "  # registration-enabled = false\r\n",
      "\r\n",
      "  # Must include the protocol (http://)\r\n",
      "  # registration-server-url = \"\"\r\n",
      "\r\n",
      "  # license-key and license-path are mutually exclusive, use only one and leave the other blank\r\n",
      "  license-key = \"\"\r\n",
      "\r\n",
      "  # license-key and license-path are mutually exclusive, use only one and leave the other blank\r\n",
      "  license-path = \"\"\r\n",
      "\r\n",
      "###\r\n",
      "### [meta]\r\n",
      "###\r\n",
      "### Settings specific to meta node operation.\r\n",
      "###\r\n",
      "#\r\n",
      "[meta]\r\n",
      "  # Directory where cluster meta data is stored.\r\n",
      "  dir = \"/var/lib/influxdb/meta\"\r\n",
      "\r\n",
      "  # The default address for raft, cluster, snapshot, etc.\r\n",
      "  # bind-address = \":8089\"\r\n",
      "\r\n",
      "  # The default address to bind the API to.\r\n",
      "  # http-bind-address = \":8091\"\r\n",
      "\r\n",
      "  # Determines whether the API uses HTTPS.\r\n",
      "  # https-enabled = false\r\n",
      "\r\n",
      "  # The SSL certificate to use when HTTPS is enabled.  The certificate should be a PEM encoded\r\n",
      "  # bundle of the certificate and key.  If it is just the certificate, a key must be\r\n",
      "  # specified in https-private-key.\r\n",
      "  # https-certificate = \"\"\r\n",
      "\r\n",
      "  # Use a separate private key location.\r\n",
      "  # https-private-key = \"\"\r\n",
      "\r\n",
      "  # Whether to skip certificate validation when making HTTPS requests to other meta nodes.\r\n",
      "  # This is useful when testing with self-signed certificates.\r\n",
      "  # https-insecure-tls = false\r\n",
      "\r\n",
      "  # The default frequency with which the node will gossip its known announcements.\r\n",
      "  # gossip-frequency = \"5s\"\r\n",
      "\r\n",
      "  # The default length of time an announcement is kept before it is considered too old.\r\n",
      "  # announcement-expiration = \"30s\"\r\n",
      "\r\n",
      "  # Automatically create a default retention policy when creating a database.\r\n",
      "  # retention-autocreate = true\r\n",
      "\r\n",
      "  # The amount of time in candidate state without a leader before we attempt an election.\r\n",
      "  # election-timeout = \"1s\"\r\n",
      "\r\n",
      "  # The amount of time in follower state without a leader before we attempt an election.\r\n",
      "  # heartbeat-timeout = \"1s\"\r\n",
      "\r\n",
      "  # Control how long the \"lease\" lasts for being the leader without being able to contact a quorum\r\n",
      "  # of nodes. If we reach this interval without contact, we will step down as leader.\r\n",
      "  # leader-lease-timeout = \"500ms\"\r\n",
      "\r\n",
      "  # The amount of time without an Apply() operation before we heartbeat to ensure a timely\r\n",
      "  # commit. Due to random staggering, may be delayed as much as 2x this value.\r\n",
      "  # commit-timeout = \"50ms\"\r\n",
      "\r\n",
      "  # Timeout waiting for consensus before getting the latest Raft snapshot.\r\n",
      "  # consensus-timeout = \"30s\"\r\n",
      "\r\n",
      "  # Enables cluster level trace logging.\r\n",
      "  # cluster-tracing = false\r\n",
      "\r\n",
      "  # Enables cluster API level trace logging.\r\n",
      "  # logging-enabled = true\r\n",
      "\r\n",
      "  # Determines whether the pprof endpoint is enabled.  This endpoint is used for\r\n",
      "  # troubleshooting and monitoring.\r\n",
      "  # pprof-enabled = true\r\n",
      "\r\n",
      "  # The default duration of leases.\r\n",
      "  # lease-duration = \"1m0s\"\r\n",
      "\r\n",
      "  # If true, HTTP endpoints require authentication.\r\n",
      "  # auth-enabled = false\r\n",
      "\r\n",
      "  # The shared secret used by the API for JWT authentication.\r\n",
      "  # shared-secret = \"\"\r\n",
      "\r\n",
      "  # The shared secret used by the internal API for JWT authentication.\r\n",
      "  # internal-shared-secret = \"\"\r\n"
     ]
    }
   ],
   "source": [
    "!docker exec -it influx-cluster-1 cat /etc/influxdb/influxdb-meta.conf"
   ]
  },
  {
   "cell_type": "markdown",
   "metadata": {},
   "source": [
    "Start the meta service\n",
    "\n",
    "On sysvinit systems, enter:\n",
    "    \n",
    "service influxdb-meta start\n",
    "\n",
    "On systemd systems, enter:\n",
    "\n",
    "sudo systemctl start influxdb-meta"
   ]
  },
  {
   "cell_type": "code",
   "execution_count": 4,
   "metadata": {},
   "outputs": [
    {
     "name": "stdout",
     "output_type": "stream",
     "text": [
      "influxdb-meta: unrecognized service\r\n"
     ]
    }
   ],
   "source": [
    "!docker exec -it influx-cluster-1 service influxdb-meta start"
   ]
  },
  {
   "cell_type": "code",
   "execution_count": 5,
   "metadata": {},
   "outputs": [
    {
     "ename": "OSError",
     "evalue": "Background processes not supported.",
     "output_type": "error",
     "traceback": [
      "\u001b[0;31m---------------------------------------------------------------------------\u001b[0m",
      "\u001b[0;31mOSError\u001b[0m                                   Traceback (most recent call last)",
      "\u001b[0;32m<ipython-input-5-70658b9a81e8>\u001b[0m in \u001b[0;36m<module>\u001b[0;34m()\u001b[0m\n\u001b[0;32m----> 1\u001b[0;31m \u001b[0mget_ipython\u001b[0m\u001b[0;34m(\u001b[0m\u001b[0;34m)\u001b[0m\u001b[0;34m.\u001b[0m\u001b[0msystem\u001b[0m\u001b[0;34m(\u001b[0m\u001b[0;34m'docker exec -it influx-cluster-1 nohup influxd-meta &'\u001b[0m\u001b[0;34m)\u001b[0m\u001b[0;34m\u001b[0m\u001b[0m\n\u001b[0m",
      "\u001b[0;32m~/.local/lib/python3.5/site-packages/IPython/core/interactiveshell.py\u001b[0m in \u001b[0;36msystem_piped\u001b[0;34m(self, cmd)\u001b[0m\n\u001b[1;32m   2254\u001b[0m             \u001b[0;31m# os.system() or use ip.system=ip.system_raw\u001b[0m\u001b[0;34m\u001b[0m\u001b[0;34m\u001b[0m\u001b[0m\n\u001b[1;32m   2255\u001b[0m             \u001b[0;31m# if they really want a background process.\u001b[0m\u001b[0;34m\u001b[0m\u001b[0;34m\u001b[0m\u001b[0m\n\u001b[0;32m-> 2256\u001b[0;31m             \u001b[0;32mraise\u001b[0m \u001b[0mOSError\u001b[0m\u001b[0;34m(\u001b[0m\u001b[0;34m\"Background processes not supported.\"\u001b[0m\u001b[0;34m)\u001b[0m\u001b[0;34m\u001b[0m\u001b[0m\n\u001b[0m\u001b[1;32m   2257\u001b[0m \u001b[0;34m\u001b[0m\u001b[0m\n\u001b[1;32m   2258\u001b[0m         \u001b[0;31m# we explicitly do NOT return the subprocess status code, because\u001b[0m\u001b[0;34m\u001b[0m\u001b[0;34m\u001b[0m\u001b[0m\n",
      "\u001b[0;31mOSError\u001b[0m: Background processes not supported."
     ]
    }
   ],
   "source": [
    "!docker exec -it influx-cluster-1 nohup influxd-meta --config /etc/influxdb/influxdb-meta.conf &"
   ]
  },
  {
   "cell_type": "code",
   "execution_count": 6,
   "metadata": {},
   "outputs": [],
   "source": [
    "!docker exec -it influx-cluster-1 ps aux | grep -v grep | grep influxdb-meta"
   ]
  },
  {
   "cell_type": "code",
   "execution_count": null,
   "metadata": {},
   "outputs": [],
   "source": []
  }
 ],
 "metadata": {
  "kernelspec": {
   "display_name": "Python 3",
   "language": "python",
   "name": "python3"
  },
  "language_info": {
   "codemirror_mode": {
    "name": "ipython",
    "version": 3
   },
   "file_extension": ".py",
   "mimetype": "text/x-python",
   "name": "python",
   "nbconvert_exporter": "python",
   "pygments_lexer": "ipython3",
   "version": "3.5.2"
  }
 },
 "nbformat": 4,
 "nbformat_minor": 2
}
