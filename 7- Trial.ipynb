{
 "cells": [
  {
   "cell_type": "code",
   "execution_count": 1,
   "metadata": {},
   "outputs": [
    {
     "name": "stdout",
     "output_type": "stream",
     "text": [
      "E: Could not open lock file /var/lib/dpkg/lock - open (13: Permission denied)\r\n",
      "E: Unable to lock the administration directory (/var/lib/dpkg/), are you root?\r\n"
     ]
    }
   ],
   "source": [
    "!apt install -y influxdb-client"
   ]
  },
  {
   "cell_type": "code",
   "execution_count": 2,
   "metadata": {},
   "outputs": [
    {
     "name": "stdout",
     "output_type": "stream",
     "text": [
      "InfluxDB shell 0.10.0\r\n"
     ]
    }
   ],
   "source": [
    "!influx --version"
   ]
  },
  {
   "cell_type": "code",
   "execution_count": 4,
   "metadata": {
    "collapsed": true
   },
   "outputs": [
    {
     "name": "stdout",
     "output_type": "stream",
     "text": [
      "name: measurements\r\n",
      "------------------\r\n",
      "name\r\n",
      "cpu\r\n",
      "disk\r\n",
      "diskio\r\n",
      "kernel\r\n",
      "mem\r\n",
      "processes\r\n",
      "swap\r\n",
      "system\r\n",
      "\r\n"
     ]
    }
   ],
   "source": [
    "!influx -host 172.17.0.2 -database 'telegraf' -execute 'show measurements'"
   ]
  },
  {
   "cell_type": "code",
   "execution_count": 6,
   "metadata": {
    "scrolled": true
   },
   "outputs": [
    {
     "name": "stdout",
     "output_type": "stream",
     "text": [
      "{\r\n",
      "    \"results\": [\r\n",
      "        {\r\n",
      "            \"series\": [\r\n",
      "                {\r\n",
      "                    \"name\": \"cpu\",\r\n",
      "                    \"columns\": [\r\n",
      "                        \"time\",\r\n",
      "                        \"cpu\",\r\n",
      "                        \"host\",\r\n",
      "                        \"usage_guest\",\r\n",
      "                        \"usage_guest_nice\",\r\n",
      "                        \"usage_idle\",\r\n",
      "                        \"usage_iowait\",\r\n",
      "                        \"usage_irq\",\r\n",
      "                        \"usage_nice\",\r\n",
      "                        \"usage_softirq\",\r\n",
      "                        \"usage_steal\",\r\n",
      "                        \"usage_system\",\r\n",
      "                        \"usage_user\"\r\n",
      "                    ],\r\n",
      "                    \"values\": [\r\n",
      "                        [\r\n",
      "                            1533057550000000000,\r\n",
      "                            \"cpu-total\",\r\n",
      "                            \"influx-cluster-1\",\r\n",
      "                            0,\r\n",
      "                            0,\r\n",
      "                            98.34876157116969,\r\n",
      "                            0.02501876407303131,\r\n",
      "                            0,\r\n",
      "                            0,\r\n",
      "                            0.15011258443833006,\r\n",
      "                            0,\r\n",
      "                            0.5504128096072577,\r\n",
      "                            0.9256942707027273\r\n",
      "                        ],\r\n",
      "                        [\r\n",
      "                            1533057550000000000,\r\n",
      "                            \"cpu0\",\r\n",
      "                            \"influx-cluster-1\",\r\n",
      "                            0,\r\n",
      "                            0,\r\n",
      "                            97.9999999998865,\r\n",
      "                            0.09999999999976353,\r\n",
      "                            0,\r\n",
      "                            0,\r\n",
      "                            0.09999999999987011,\r\n",
      "                            0,\r\n",
      "                            0.6999999999989132,\r\n",
      "                            1.0999999999996726\r\n",
      "                        ],\r\n",
      "                        [\r\n",
      "                            1533057550000000000,\r\n",
      "                            \"cpu1\",\r\n",
      "                            \"influx-cluster-1\",\r\n",
      "                            0,\r\n",
      "                            0,\r\n",
      "                            98.19999999999709,\r\n",
      "                            0,\r\n",
      "                            0,\r\n",
      "                            0,\r\n",
      "                            0.29999999999999805,\r\n",
      "                            0,\r\n",
      "                            0.5000000000001137,\r\n",
      "                            0.9999999999990905\r\n",
      "                        ],\r\n",
      "                        [\r\n",
      "                            1533057550000000000,\r\n",
      "                            \"cpu2\",\r\n",
      "                            \"influx-cluster-1\",\r\n",
      "                            0,\r\n",
      "                            0,\r\n",
      "                            98.30169830167914,\r\n",
      "                            0,\r\n",
      "                            0,\r\n",
      "                            0,\r\n",
      "                            0.19980019980023192,\r\n",
      "                            0,\r\n",
      "                            0.499500499500693,\r\n",
      "                            0.9990009990025216\r\n",
      "                        ],\r\n",
      "                        [\r\n",
      "                            1533057550000000000,\r\n",
      "                            \"cpu3\",\r\n",
      "                            \"influx-cluster-1\",\r\n",
      "                            0,\r\n",
      "                            0,\r\n",
      "                            98.89669007020493,\r\n",
      "                            0,\r\n",
      "                            0,\r\n",
      "                            0,\r\n",
      "                            0,\r\n",
      "                            0,\r\n",
      "                            0.5015045135403923,\r\n",
      "                            0.6018054162481287\r\n",
      "                        ]\r\n",
      "                    ]\r\n",
      "                }\r\n",
      "            ]\r\n",
      "        }\r\n",
      "    ]\r\n",
      "}\r\n"
     ]
    }
   ],
   "source": [
    "!influx -host 172.17.0.2 -database 'telegraf' -execute 'select * from cpu limit 5' -format 'json' -pretty"
   ]
  },
  {
   "cell_type": "code",
   "execution_count": 7,
   "metadata": {},
   "outputs": [
    {
     "name": "stdout",
     "output_type": "stream",
     "text": [
      "name: cpu\r\n",
      "---------\r\n",
      "time\t\t\tcpu\t\thost\t\t\tusage_guest\tusage_guest_nice\tusage_idle\t\tusage_iowait\t\tusage_irq\tusage_nice\tusage_softirq\t\tusage_steal\tusage_system\t\tusage_user\r\n",
      "1533057550000000000\tcpu-total\tinflux-cluster-1\t0\t\t0\t\t\t98.34876157116969\t0.02501876407303131\t0\t\t0\t\t0.15011258443833006\t0\t\t0.5504128096072577\t0.9256942707027273\r\n",
      "1533057550000000000\tcpu0\t\tinflux-cluster-1\t0\t\t0\t\t\t97.9999999998865\t0.09999999999976353\t0\t\t0\t\t0.09999999999987011\t0\t\t0.6999999999989132\t1.0999999999996726\r\n",
      "1533057550000000000\tcpu1\t\tinflux-cluster-1\t0\t\t0\t\t\t98.19999999999709\t0\t\t\t0\t\t0\t\t0.29999999999999805\t0\t\t0.5000000000001137\t0.9999999999990905\r\n",
      "1533057550000000000\tcpu2\t\tinflux-cluster-1\t0\t\t0\t\t\t98.30169830167914\t0\t\t\t0\t\t0\t\t0.19980019980023192\t0\t\t0.499500499500693\t0.9990009990025216\r\n",
      "1533057550000000000\tcpu3\t\tinflux-cluster-1\t0\t\t0\t\t\t98.89669007020493\t0\t\t\t0\t\t0\t\t0\t\t\t0\t\t0.5015045135403923\t0.6018054162481287\r\n",
      "\r\n"
     ]
    }
   ],
   "source": [
    "!influx -host 172.17.0.2 -database 'telegraf' -execute 'select * from cpu limit 5' "
   ]
  },
  {
   "cell_type": "code",
   "execution_count": 9,
   "metadata": {},
   "outputs": [
    {
     "name": "stdout",
     "output_type": "stream",
     "text": [
      "ERR: error authorizing query: create admin user first or disable authentication\r\n",
      "error authorizing query: create admin user first or disable authentication\r\n"
     ]
    }
   ],
   "source": [
    "!influx -host 172.17.0.4 -database 'telegraf' -execute 'select * from cpu limit 5' "
   ]
  },
  {
   "cell_type": "code",
   "execution_count": 13,
   "metadata": {},
   "outputs": [
    {
     "name": "stdout",
     "output_type": "stream",
     "text": [
      "name: databases\r\n",
      "---------------\r\n",
      "name\r\n",
      "_internal\r\n",
      "telegraf\r\n",
      "\r\n"
     ]
    }
   ],
   "source": [
    "!influx -host 172.17.0.2 -execute 'show databases' "
   ]
  },
  {
   "cell_type": "code",
   "execution_count": 16,
   "metadata": {},
   "outputs": [
    {
     "name": "stdout",
     "output_type": "stream",
     "text": [
      "name: cpu\r\n",
      "---------\r\n",
      "time\t\t\tcpu\t\thost\t\t\tusage_guest\tusage_guest_nice\tusage_idle\t\tusage_iowait\t\tusage_irq\tusage_nice\tusage_softirq\t\tusage_steal\tusage_system\t\tusage_user\r\n",
      "1533057550000000000\tcpu-total\tinflux-cluster-1\t0\t\t0\t\t\t98.34876157116969\t0.02501876407303131\t0\t\t0\t\t0.15011258443833006\t0\t\t0.5504128096072577\t0.9256942707027273\r\n",
      "1533057550000000000\tcpu0\t\tinflux-cluster-1\t0\t\t0\t\t\t97.9999999998865\t0.09999999999976353\t0\t\t0\t\t0.09999999999987011\t0\t\t0.6999999999989132\t1.0999999999996726\r\n",
      "1533057550000000000\tcpu1\t\tinflux-cluster-1\t0\t\t0\t\t\t98.19999999999709\t0\t\t\t0\t\t0\t\t0.29999999999999805\t0\t\t0.5000000000001137\t0.9999999999990905\r\n",
      "1533057550000000000\tcpu2\t\tinflux-cluster-1\t0\t\t0\t\t\t98.30169830167914\t0\t\t\t0\t\t0\t\t0.19980019980023192\t0\t\t0.499500499500693\t0.9990009990025216\r\n",
      "1533057550000000000\tcpu3\t\tinflux-cluster-1\t0\t\t0\t\t\t98.89669007020493\t0\t\t\t0\t\t0\t\t0\t\t\t0\t\t0.5015045135403923\t0.6018054162481287\r\n",
      "\r\n"
     ]
    }
   ],
   "source": [
    "#via haproxy\n",
    "!influx -host 172.17.0.5 -database 'telegraf' -execute 'select * from cpu limit 5' "
   ]
  },
  {
   "cell_type": "code",
   "execution_count": 34,
   "metadata": {},
   "outputs": [],
   "source": [
    "!influx -host 172.17.0.5 -username admin -password admin -execute 'create database iot' "
   ]
  },
  {
   "cell_type": "code",
   "execution_count": 38,
   "metadata": {},
   "outputs": [],
   "source": [
    "!influx -host 172.17.0.5 -database iot -username admin -password admin -execute \"INSERT treasures,captain_id=pirate_king value=2\""
   ]
  },
  {
   "cell_type": "code",
   "execution_count": 40,
   "metadata": {},
   "outputs": [
    {
     "name": "stdout",
     "output_type": "stream",
     "text": [
      "name: treasures\r\n",
      "---------------\r\n",
      "time\t\t\tcaptain_id\tvalue\r\n",
      "1533086889824245989\tpirate_king\t2\r\n",
      "\r\n"
     ]
    }
   ],
   "source": [
    "!influx -host 172.17.0.5 -database iot -username admin -password admin -execute 'select * from treasures' "
   ]
  },
  {
   "cell_type": "code",
   "execution_count": 41,
   "metadata": {},
   "outputs": [
    {
     "name": "stdout",
     "output_type": "stream",
     "text": [
      "name: treasures\r\n",
      "---------------\r\n",
      "time\t\t\tcaptain_id\tvalue\r\n",
      "1533086889824245989\tpirate_king\t2\r\n",
      "\r\n"
     ]
    }
   ],
   "source": [
    "!influx -host 172.17.0.2 -database iot -username admin -password admin -execute 'select * from treasures' "
   ]
  },
  {
   "cell_type": "code",
   "execution_count": 42,
   "metadata": {},
   "outputs": [
    {
     "name": "stdout",
     "output_type": "stream",
     "text": [
      "name: treasures\r\n",
      "---------------\r\n",
      "time\t\t\tcaptain_id\tvalue\r\n",
      "1533086889824245989\tpirate_king\t2\r\n",
      "\r\n"
     ]
    }
   ],
   "source": [
    "!influx -host 172.17.0.3 -database iot -username admin -password admin -execute 'select * from treasures' "
   ]
  },
  {
   "cell_type": "code",
   "execution_count": 43,
   "metadata": {},
   "outputs": [
    {
     "name": "stdout",
     "output_type": "stream",
     "text": [
      "name: treasures\r\n",
      "---------------\r\n",
      "time\t\t\tcaptain_id\tvalue\r\n",
      "1533086889824245989\tpirate_king\t2\r\n",
      "\r\n"
     ]
    }
   ],
   "source": [
    "!influx -host 172.17.0.4 -database iot -username admin -password admin -execute 'select * from treasures' "
   ]
  },
  {
   "cell_type": "code",
   "execution_count": 44,
   "metadata": {},
   "outputs": [
    {
     "name": "stdout",
     "output_type": "stream",
     "text": [
      "name: measurements\r\n",
      "------------------\r\n",
      "name\r\n",
      "cpu\r\n",
      "disk\r\n",
      "diskio\r\n",
      "kernel\r\n",
      "mem\r\n",
      "processes\r\n",
      "swap\r\n",
      "system\r\n",
      "\r\n"
     ]
    }
   ],
   "source": [
    "!influx -host 172.17.0.5 -database telegraf -username admin -password admin -execute 'show measurements' "
   ]
  },
  {
   "cell_type": "code",
   "execution_count": 45,
   "metadata": {},
   "outputs": [
    {
     "name": "stdout",
     "output_type": "stream",
     "text": [
      "name: measurements\r\n",
      "------------------\r\n",
      "name\r\n",
      "cpu\r\n",
      "disk\r\n",
      "diskio\r\n",
      "kernel\r\n",
      "mem\r\n",
      "processes\r\n",
      "swap\r\n",
      "system\r\n",
      "\r\n"
     ]
    }
   ],
   "source": [
    "!influx -host 172.17.0.3 -database telegraf -username admin -password admin -execute 'show measurements' "
   ]
  },
  {
   "cell_type": "code",
   "execution_count": 46,
   "metadata": {},
   "outputs": [
    {
     "name": "stdout",
     "output_type": "stream",
     "text": [
      "name: measurements\r\n",
      "------------------\r\n",
      "name\r\n",
      "cpu\r\n",
      "disk\r\n",
      "diskio\r\n",
      "kernel\r\n",
      "mem\r\n",
      "processes\r\n",
      "swap\r\n",
      "system\r\n",
      "\r\n"
     ]
    }
   ],
   "source": [
    "!influx -host 172.17.0.4 -database telegraf -username admin -password admin -execute 'show measurements' "
   ]
  },
  {
   "cell_type": "markdown",
   "metadata": {},
   "source": [
    "## high availability"
   ]
  },
  {
   "cell_type": "code",
   "execution_count": 47,
   "metadata": {},
   "outputs": [
    {
     "name": "stdout",
     "output_type": "stream",
     "text": [
      "CONTAINER ID        IMAGE               COMMAND                  CREATED             STATUS              PORTS               NAMES\r\n",
      "8cd4a384151f        haproxy             \"/docker-entrypoint.…\"   6 hours ago         Up 6 hours                              my-running-haproxy\r\n",
      "9e04dcafd7a6        ubuntu:16.04        \"sleep 9999999999999…\"   27 hours ago        Up 27 hours                             influx-cluster-3\r\n",
      "4a5974247f70        ubuntu:16.04        \"sleep 9999999999999…\"   27 hours ago        Up 27 hours                             influx-cluster-2\r\n",
      "232ae55d8ab4        ubuntu:16.04        \"sleep 9999999999999…\"   27 hours ago        Up 27 hours                             influx-cluster-1\r\n"
     ]
    }
   ],
   "source": [
    "#shutdown node-1\n",
    "!docker ps"
   ]
  },
  {
   "cell_type": "code",
   "execution_count": 48,
   "metadata": {},
   "outputs": [
    {
     "name": "stdout",
     "output_type": "stream",
     "text": [
      "232\r\n"
     ]
    }
   ],
   "source": [
    "!docker stop 232"
   ]
  },
  {
   "cell_type": "code",
   "execution_count": 49,
   "metadata": {},
   "outputs": [
    {
     "name": "stdout",
     "output_type": "stream",
     "text": [
      "name: measurements\r\n",
      "------------------\r\n",
      "name\r\n",
      "cpu\r\n",
      "disk\r\n",
      "diskio\r\n",
      "kernel\r\n",
      "mem\r\n",
      "processes\r\n",
      "swap\r\n",
      "system\r\n",
      "\r\n"
     ]
    }
   ],
   "source": [
    "!influx -host 172.17.0.5 -database telegraf -username admin -password admin -execute 'show measurements' "
   ]
  },
  {
   "cell_type": "code",
   "execution_count": 50,
   "metadata": {},
   "outputs": [
    {
     "name": "stdout",
     "output_type": "stream",
     "text": [
      "Failed to connect to http://172.17.0.2:8086\r\n",
      "Please check your connection settings and ensure 'influxd' is running.\r\n"
     ]
    }
   ],
   "source": [
    "!influx -host 172.17.0.2 -database telegraf -username admin -password admin -execute 'show measurements' "
   ]
  },
  {
   "cell_type": "code",
   "execution_count": 51,
   "metadata": {},
   "outputs": [],
   "source": [
    "#shutdown node-2"
   ]
  },
  {
   "cell_type": "code",
   "execution_count": 52,
   "metadata": {},
   "outputs": [
    {
     "name": "stdout",
     "output_type": "stream",
     "text": [
      "4a5\r\n"
     ]
    }
   ],
   "source": [
    "!docker stop 4a5"
   ]
  },
  {
   "cell_type": "code",
   "execution_count": 53,
   "metadata": {},
   "outputs": [
    {
     "name": "stdout",
     "output_type": "stream",
     "text": [
      "CONTAINER ID        IMAGE               COMMAND                  CREATED             STATUS              PORTS               NAMES\r\n",
      "57dc8116bf4e        haproxy             \"/docker-entrypoint.…\"   37 seconds ago      Up 36 seconds                           my-running-haproxy-2\r\n",
      "8cd4a384151f        haproxy             \"/docker-entrypoint.…\"   6 hours ago         Up 6 hours                              my-running-haproxy\r\n",
      "9e04dcafd7a6        ubuntu:16.04        \"sleep 9999999999999…\"   27 hours ago        Up 27 hours                             influx-cluster-3\r\n",
      "4a5974247f70        ubuntu:16.04        \"sleep 9999999999999…\"   27 hours ago        Up About a minute                       influx-cluster-2\r\n",
      "232ae55d8ab4        ubuntu:16.04        \"sleep 9999999999999…\"   27 hours ago        Up About a minute                       influx-cluster-1\r\n"
     ]
    }
   ],
   "source": [
    "!docker ps"
   ]
  },
  {
   "cell_type": "code",
   "execution_count": 54,
   "metadata": {},
   "outputs": [],
   "source": [
    "#use 2nd haproxy"
   ]
  },
  {
   "cell_type": "code",
   "execution_count": 55,
   "metadata": {},
   "outputs": [
    {
     "name": "stdout",
     "output_type": "stream",
     "text": [
      "name: measurements\r\n",
      "------------------\r\n",
      "name\r\n",
      "cpu\r\n",
      "disk\r\n",
      "diskio\r\n",
      "kernel\r\n",
      "mem\r\n",
      "processes\r\n",
      "swap\r\n",
      "system\r\n",
      "\r\n"
     ]
    }
   ],
   "source": [
    "!influx -host 172.17.0.6 -database telegraf -username admin -password admin -execute 'show measurements' "
   ]
  },
  {
   "cell_type": "markdown",
   "metadata": {},
   "source": [
    "## scalability"
   ]
  },
  {
   "cell_type": "code",
   "execution_count": 1,
   "metadata": {},
   "outputs": [],
   "source": [
    "# add new node to the cluster"
   ]
  },
  {
   "cell_type": "code",
   "execution_count": 2,
   "metadata": {},
   "outputs": [
    {
     "name": "stdout",
     "output_type": "stream",
     "text": [
      "d51989491f3a8db845dea8527c06b08404f50b230019f2b687284d7f04dedbcf\r\n"
     ]
    }
   ],
   "source": [
    "!docker run -d --name influx-cluster-4 --hostname influx-cluster-4 ubuntu:16.04 sleep 9999999999999999999"
   ]
  },
  {
   "cell_type": "code",
   "execution_count": 3,
   "metadata": {},
   "outputs": [
    {
     "name": "stdout",
     "output_type": "stream",
     "text": [
      "[\r\n",
      "    {\r\n",
      "        \"Id\": \"d51989491f3a8db845dea8527c06b08404f50b230019f2b687284d7f04dedbcf\",\r\n",
      "        \"Created\": \"2018-08-01T02:14:43.319021757Z\",\r\n",
      "        \"Path\": \"sleep\",\r\n",
      "        \"Args\": [\r\n",
      "            \"9999999999999999999\"\r\n",
      "        ],\r\n",
      "        \"State\": {\r\n",
      "            \"Status\": \"running\",\r\n",
      "            \"Running\": true,\r\n",
      "            \"Paused\": false,\r\n",
      "            \"Restarting\": false,\r\n",
      "            \"OOMKilled\": false,\r\n",
      "            \"Dead\": false,\r\n",
      "            \"Pid\": 12205,\r\n",
      "            \"ExitCode\": 0,\r\n",
      "            \"Error\": \"\",\r\n",
      "            \"StartedAt\": \"2018-08-01T02:14:43.679403847Z\",\r\n",
      "            \"FinishedAt\": \"0001-01-01T00:00:00Z\"\r\n",
      "        },\r\n",
      "        \"Image\": \"sha256:7aa3602ab41ea3384904197455e66f6435cb0261bd62a06db1d8e76cb8960c42\",\r\n",
      "        \"ResolvConfPath\": \"/var/lib/docker/containers/d51989491f3a8db845dea8527c06b08404f50b230019f2b687284d7f04dedbcf/resolv.conf\",\r\n",
      "        \"HostnamePath\": \"/var/lib/docker/containers/d51989491f3a8db845dea8527c06b08404f50b230019f2b687284d7f04dedbcf/hostname\",\r\n",
      "        \"HostsPath\": \"/var/lib/docker/containers/d51989491f3a8db845dea8527c06b08404f50b230019f2b687284d7f04dedbcf/hosts\",\r\n",
      "        \"LogPath\": \"/var/lib/docker/containers/d51989491f3a8db845dea8527c06b08404f50b230019f2b687284d7f04dedbcf/d51989491f3a8db845dea8527c06b08404f50b230019f2b687284d7f04dedbcf-json.log\",\r\n",
      "        \"Name\": \"/influx-cluster-4\",\r\n",
      "        \"RestartCount\": 0,\r\n",
      "        \"Driver\": \"overlay2\",\r\n",
      "        \"Platform\": \"linux\",\r\n",
      "        \"MountLabel\": \"\",\r\n",
      "        \"ProcessLabel\": \"\",\r\n",
      "        \"AppArmorProfile\": \"docker-default\",\r\n",
      "        \"ExecIDs\": null,\r\n",
      "        \"HostConfig\": {\r\n",
      "            \"Binds\": null,\r\n",
      "            \"ContainerIDFile\": \"\",\r\n",
      "            \"LogConfig\": {\r\n",
      "                \"Type\": \"json-file\",\r\n",
      "                \"Config\": {}\r\n",
      "            },\r\n",
      "            \"NetworkMode\": \"default\",\r\n",
      "            \"PortBindings\": {},\r\n",
      "            \"RestartPolicy\": {\r\n",
      "                \"Name\": \"no\",\r\n",
      "                \"MaximumRetryCount\": 0\r\n",
      "            },\r\n",
      "            \"AutoRemove\": false,\r\n",
      "            \"VolumeDriver\": \"\",\r\n",
      "            \"VolumesFrom\": null,\r\n",
      "            \"CapAdd\": null,\r\n",
      "            \"CapDrop\": null,\r\n",
      "            \"Dns\": [],\r\n",
      "            \"DnsOptions\": [],\r\n",
      "            \"DnsSearch\": [],\r\n",
      "            \"ExtraHosts\": null,\r\n",
      "            \"GroupAdd\": null,\r\n",
      "            \"IpcMode\": \"shareable\",\r\n",
      "            \"Cgroup\": \"\",\r\n",
      "            \"Links\": null,\r\n",
      "            \"OomScoreAdj\": 0,\r\n",
      "            \"PidMode\": \"\",\r\n",
      "            \"Privileged\": false,\r\n",
      "            \"PublishAllPorts\": false,\r\n",
      "            \"ReadonlyRootfs\": false,\r\n",
      "            \"SecurityOpt\": null,\r\n",
      "            \"UTSMode\": \"\",\r\n",
      "            \"UsernsMode\": \"\",\r\n",
      "            \"ShmSize\": 67108864,\r\n",
      "            \"Runtime\": \"runc\",\r\n",
      "            \"ConsoleSize\": [\r\n",
      "                0,\r\n",
      "                0\r\n",
      "            ],\r\n",
      "            \"Isolation\": \"\",\r\n",
      "            \"CpuShares\": 0,\r\n",
      "            \"Memory\": 0,\r\n",
      "            \"NanoCpus\": 0,\r\n",
      "            \"CgroupParent\": \"\",\r\n",
      "            \"BlkioWeight\": 0,\r\n",
      "            \"BlkioWeightDevice\": [],\r\n",
      "            \"BlkioDeviceReadBps\": null,\r\n",
      "            \"BlkioDeviceWriteBps\": null,\r\n",
      "            \"BlkioDeviceReadIOps\": null,\r\n",
      "            \"BlkioDeviceWriteIOps\": null,\r\n",
      "            \"CpuPeriod\": 0,\r\n",
      "            \"CpuQuota\": 0,\r\n",
      "            \"CpuRealtimePeriod\": 0,\r\n",
      "            \"CpuRealtimeRuntime\": 0,\r\n",
      "            \"CpusetCpus\": \"\",\r\n",
      "            \"CpusetMems\": \"\",\r\n",
      "            \"Devices\": [],\r\n",
      "            \"DeviceCgroupRules\": null,\r\n",
      "            \"DiskQuota\": 0,\r\n",
      "            \"KernelMemory\": 0,\r\n",
      "            \"MemoryReservation\": 0,\r\n",
      "            \"MemorySwap\": 0,\r\n",
      "            \"MemorySwappiness\": null,\r\n",
      "            \"OomKillDisable\": false,\r\n",
      "            \"PidsLimit\": 0,\r\n",
      "            \"Ulimits\": null,\r\n",
      "            \"CpuCount\": 0,\r\n",
      "            \"CpuPercent\": 0,\r\n",
      "            \"IOMaximumIOps\": 0,\r\n",
      "            \"IOMaximumBandwidth\": 0,\r\n",
      "            \"MaskedPaths\": [\r\n",
      "                \"/proc/acpi\",\r\n",
      "                \"/proc/kcore\",\r\n",
      "                \"/proc/keys\",\r\n",
      "                \"/proc/latency_stats\",\r\n",
      "                \"/proc/timer_list\",\r\n",
      "                \"/proc/timer_stats\",\r\n",
      "                \"/proc/sched_debug\",\r\n",
      "                \"/proc/scsi\",\r\n",
      "                \"/sys/firmware\"\r\n",
      "            ],\r\n",
      "            \"ReadonlyPaths\": [\r\n",
      "                \"/proc/asound\",\r\n",
      "                \"/proc/bus\",\r\n",
      "                \"/proc/fs\",\r\n",
      "                \"/proc/irq\",\r\n",
      "                \"/proc/sys\",\r\n",
      "                \"/proc/sysrq-trigger\"\r\n",
      "            ]\r\n",
      "        },\r\n",
      "        \"GraphDriver\": {\r\n",
      "            \"Data\": {\r\n",
      "                \"LowerDir\": \"/var/lib/docker/overlay2/f7ba24efa6084ac00e0339926d8197fedda021c2494dd1925e9d2cb7cc3c4505-init/diff:/var/lib/docker/overlay2/29f52965c23aaebb525ed14d1756edd168965aaee4785aa74bb34387741c144c/diff:/var/lib/docker/overlay2/1c098acbe8544f0ddd1ccbb0ae77adf0a6a498176fb8ba3a9760304f4329c596/diff:/var/lib/docker/overlay2/3d5f29963aa448fa491cca7fa486c977dcf580094c3b490e85fb663bd7ecb10b/diff:/var/lib/docker/overlay2/0c68d1f46b61c9eedd1a9e19d0b931a6ed371c2fc3f3eccf3b10a7b38a17f84b/diff:/var/lib/docker/overlay2/60f43215f0cefae4cd4fb35273f3be0a3d2d9b8cd551a5012200249570e9a9ff/diff\",\r\n",
      "                \"MergedDir\": \"/var/lib/docker/overlay2/f7ba24efa6084ac00e0339926d8197fedda021c2494dd1925e9d2cb7cc3c4505/merged\",\r\n",
      "                \"UpperDir\": \"/var/lib/docker/overlay2/f7ba24efa6084ac00e0339926d8197fedda021c2494dd1925e9d2cb7cc3c4505/diff\",\r\n",
      "                \"WorkDir\": \"/var/lib/docker/overlay2/f7ba24efa6084ac00e0339926d8197fedda021c2494dd1925e9d2cb7cc3c4505/work\"\r\n",
      "            },\r\n",
      "            \"Name\": \"overlay2\"\r\n",
      "        },\r\n",
      "        \"Mounts\": [],\r\n",
      "        \"Config\": {\r\n",
      "            \"Hostname\": \"influx-cluster-4\",\r\n",
      "            \"Domainname\": \"\",\r\n",
      "            \"User\": \"\",\r\n",
      "            \"AttachStdin\": false,\r\n",
      "            \"AttachStdout\": false,\r\n",
      "            \"AttachStderr\": false,\r\n",
      "            \"Tty\": false,\r\n",
      "            \"OpenStdin\": false,\r\n",
      "            \"StdinOnce\": false,\r\n",
      "            \"Env\": [\r\n",
      "                \"PATH=/usr/local/sbin:/usr/local/bin:/usr/sbin:/usr/bin:/sbin:/bin\"\r\n",
      "            ],\r\n",
      "            \"Cmd\": [\r\n",
      "                \"sleep\",\r\n",
      "                \"9999999999999999999\"\r\n",
      "            ],\r\n",
      "            \"Image\": \"ubuntu:16.04\",\r\n",
      "            \"Volumes\": null,\r\n",
      "            \"WorkingDir\": \"\",\r\n",
      "            \"Entrypoint\": null,\r\n",
      "            \"OnBuild\": null,\r\n",
      "            \"Labels\": {}\r\n",
      "        },\r\n",
      "        \"NetworkSettings\": {\r\n",
      "            \"Bridge\": \"\",\r\n",
      "            \"SandboxID\": \"8219298203a9b3a3ee63fff937722f0a016b8b7767ac89dd7b7514656b733ddd\",\r\n",
      "            \"HairpinMode\": false,\r\n",
      "            \"LinkLocalIPv6Address\": \"\",\r\n",
      "            \"LinkLocalIPv6PrefixLen\": 0,\r\n",
      "            \"Ports\": {},\r\n",
      "            \"SandboxKey\": \"/var/run/docker/netns/8219298203a9\",\r\n",
      "            \"SecondaryIPAddresses\": null,\r\n",
      "            \"SecondaryIPv6Addresses\": null,\r\n",
      "            \"EndpointID\": \"2a17cc17ffca35ba31e9d4b6c699e10061b5af4dc4da0a3fab5cf2d27c457bb8\",\r\n",
      "            \"Gateway\": \"172.17.0.1\",\r\n",
      "            \"GlobalIPv6Address\": \"\",\r\n",
      "            \"GlobalIPv6PrefixLen\": 0,\r\n",
      "            \"IPAddress\": \"172.17.0.7\",\r\n",
      "            \"IPPrefixLen\": 16,\r\n",
      "            \"IPv6Gateway\": \"\",\r\n",
      "            \"MacAddress\": \"02:42:ac:11:00:07\",\r\n",
      "            \"Networks\": {\r\n",
      "                \"bridge\": {\r\n",
      "                    \"IPAMConfig\": null,\r\n",
      "                    \"Links\": null,\r\n",
      "                    \"Aliases\": null,\r\n",
      "                    \"NetworkID\": \"8374b51baff96ae7ba894e126fb27861d24e4cf73033af96252cc7146a5bb97b\",\r\n",
      "                    \"EndpointID\": \"2a17cc17ffca35ba31e9d4b6c699e10061b5af4dc4da0a3fab5cf2d27c457bb8\",\r\n",
      "                    \"Gateway\": \"172.17.0.1\",\r\n",
      "                    \"IPAddress\": \"172.17.0.7\",\r\n",
      "                    \"IPPrefixLen\": 16,\r\n",
      "                    \"IPv6Gateway\": \"\",\r\n",
      "                    \"GlobalIPv6Address\": \"\",\r\n",
      "                    \"GlobalIPv6PrefixLen\": 0,\r\n",
      "                    \"MacAddress\": \"02:42:ac:11:00:07\",\r\n",
      "                    \"DriverOpts\": null\r\n",
      "                }\r\n",
      "            }\r\n",
      "        }\r\n",
      "    }\r\n",
      "]\r\n"
     ]
    }
   ],
   "source": [
    "!docker inspect d51"
   ]
  },
  {
   "cell_type": "code",
   "execution_count": null,
   "metadata": {},
   "outputs": [],
   "source": [
    "# Add manually from docker exec for server-4\n",
    "echo -e \"172.17.0.2\\tinflux-cluster-1\" >> /etc/hosts\n",
    "echo -e \"172.17.0.3\\tinflux-cluster-2\" >> /etc/hosts\n",
    "echo -e \"172.17.0.4\\tinflux-cluster-3\" >> /etc/hosts"
   ]
  },
  {
   "cell_type": "code",
   "execution_count": 4,
   "metadata": {},
   "outputs": [
    {
     "name": "stdout",
     "output_type": "stream",
     "text": [
      "127.0.0.1\tlocalhost\r\n",
      "::1\tlocalhost ip6-localhost ip6-loopback\r\n",
      "fe00::0\tip6-localnet\r\n",
      "ff00::0\tip6-mcastprefix\r\n",
      "ff02::1\tip6-allnodes\r\n",
      "ff02::2\tip6-allrouters\r\n",
      "172.17.0.7\tinflux-cluster-4\r\n",
      "172.17.0.2\tinflux-cluster-1\r\n",
      "172.17.0.3\tinflux-cluster-2\r\n",
      "172.17.0.4\tinflux-cluster-3\r\n"
     ]
    }
   ],
   "source": [
    "!docker exec -it influx-cluster-4 cat /etc/hosts"
   ]
  },
  {
   "cell_type": "code",
   "execution_count": 5,
   "metadata": {},
   "outputs": [],
   "source": [
    "#install required package"
   ]
  },
  {
   "cell_type": "code",
   "execution_count": null,
   "metadata": {},
   "outputs": [],
   "source": [
    "wget https://dl.influxdata.com/enterprise/releases/influxdb-meta_1.5.4-c1.5.4_amd64.deb\n",
    "sudo dpkg -i influxdb-meta_1.5.4-c1.5.4_amd64.deb"
   ]
  },
  {
   "cell_type": "markdown",
   "metadata": {},
   "source": [
    "In /etc/influxdb/influxdb-meta.conf:\n",
    "\n",
    "uncomment and set hostname to the full hostname of the meta node set license-key in the [enterprise] section to the license key you received on InfluxPortal OR license-path in the [enterprise] section to the local path to the JSON license file you received from InfluxData."
   ]
  },
  {
   "cell_type": "code",
   "execution_count": null,
   "metadata": {},
   "outputs": [],
   "source": [
    "nohup influxd-meta --config /etc/influxdb/influxdb-meta.conf &"
   ]
  },
  {
   "cell_type": "code",
   "execution_count": null,
   "metadata": {},
   "outputs": [],
   "source": [
    "wget https://dl.influxdata.com/enterprise/releases/influxdb-data_1.5.4-c1.5.4_amd64.deb\n",
    "\n",
    "sudo dpkg -i influxdb-data_1.5.4-c1.5.4_amd64.deb"
   ]
  },
  {
   "cell_type": "markdown",
   "metadata": {},
   "source": [
    "First, in /etc/influxdb/influxdb.conf, uncomment:\n",
    "\n",
    "hostname at the top of the file and set it to the full hostname of the data node\n",
    "\n",
    "auth-enabled in the [http] section and set it to true\n",
    "\n",
    "shared-secret in the [http] section and set it to a long pass phrase that will be used to sign tokens for intra-cluster communication. This value needs to be consistent across all data nodes.\n",
    "\n",
    "Note: When you enable authentication, InfluxDB only executes HTTP requests that are sent with valid credentials. See the authentication section for more information.\n",
    "\n",
    "Second, in /etc/influxdb/influxdb.conf, set:\n",
    "\n",
    "license-key in the [enterprise] section to the license key you received on InfluxPortal OR license-path in the [enterprise] section to the local path to the JSON license file you received from InfluxData."
   ]
  },
  {
   "cell_type": "code",
   "execution_count": null,
   "metadata": {},
   "outputs": [],
   "source": [
    "nohup influxd --config /etc/influxdb/influxdb.conf &"
   ]
  },
  {
   "cell_type": "code",
   "execution_count": 23,
   "metadata": {},
   "outputs": [
    {
     "name": "stdout",
     "output_type": "stream",
     "text": [
      "Joining meta node at influx-cluster-1:8091\n",
      "Searching for meta node on influx-cluster-4:8091...\n",
      "Searching for data node on influx-cluster-4:8088...\n",
      "\n",
      "Successfully joined cluster\n",
      "\n",
      "  * Added meta node 8 at influx-cluster-4:8091\n",
      "  * Added data node 7 at influx-cluster-4:8088\n"
     ]
    }
   ],
   "source": [
    "# join the cluster\n",
    "!docker exec -it influx-cluster-4 influxd-ctl join -v influx-cluster-1:8091"
   ]
  },
  {
   "cell_type": "code",
   "execution_count": 24,
   "metadata": {},
   "outputs": [
    {
     "name": "stdout",
     "output_type": "stream",
     "text": [
      "Data Nodes\r\n",
      "==========\r\n",
      "ID\tTCP Address\t\tVersion\r\n",
      "2\tinflux-cluster-1:8088\t1.5.4-c1.5.4\r\n",
      "4\tinflux-cluster-2:8088\t\r\n",
      "6\tinflux-cluster-3:8088\t1.5.4-c1.5.4\r\n",
      "7\tinflux-cluster-4:8088\t1.5.4-c1.5.4\r\n",
      "\r\n",
      "Meta Nodes\r\n",
      "==========\r\n",
      "TCP Address\t\tVersion\r\n",
      "influx-cluster-1:8091\t1.5.4-c1.5.4\r\n",
      "influx-cluster-2:8091\t\r\n",
      "influx-cluster-3:8091\t1.5.4-c1.5.4\r\n",
      "influx-cluster-4:8091\t1.5.4-c1.5.4\r\n"
     ]
    }
   ],
   "source": [
    "!docker exec -it influx-cluster-1 influxd-ctl show"
   ]
  },
  {
   "cell_type": "code",
   "execution_count": null,
   "metadata": {},
   "outputs": [],
   "source": []
  }
 ],
 "metadata": {
  "kernelspec": {
   "display_name": "Python 3",
   "language": "python",
   "name": "python3"
  },
  "language_info": {
   "codemirror_mode": {
    "name": "ipython",
    "version": 3
   },
   "file_extension": ".py",
   "mimetype": "text/x-python",
   "name": "python",
   "nbconvert_exporter": "python",
   "pygments_lexer": "ipython3",
   "version": "3.5.2"
  }
 },
 "nbformat": 4,
 "nbformat_minor": 2
}
